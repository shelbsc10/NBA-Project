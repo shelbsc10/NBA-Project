{
 "cells": [
  {
   "cell_type": "markdown",
   "metadata": {},
   "source": [
    "# Basketball Bucks: The Secret Factors That Make Certain Players Filthy Rich \n",
    "---\n",
    "Team Member Net IDs:\n",
    "- Frannie Lach (fel9)\n",
    "- Shelby Ragin (scr86)\n",
    "- Siddarth Sankaran (svs36)"
   ]
  },
  {
   "cell_type": "markdown",
   "metadata": {},
   "source": [
    "## Introduction: \n",
    "---\n",
    "Basketball is the highest paid sport in the entire world. The average annual salary for professional men's basketball players falls around $ 3.9 million and this does not include sponsors, endorsments, or appearances. We find it intriguing how some players, who we think are not that good, make a substantial amount of money whereas other players who are phenomenal get paid pennies. \n",
    "\n",
    "Our group has decided to investigate which specific factors contribute the most to a professional basketball player's salary. Are the salaries decided simply on game performance? Do players coming from \"basketball schools\" such as Duke or University of Kentucky have a leg up when negotiating their salary? Do certain teams pay much higher salaries than others? Do the tallest players in the league get paid more simply because they are closer to the rim? \n",
    "\n",
    "Our goal was to analyze every single factor that contributes to a player's salary. We want to know if we can predict the salary of a certain player in the league based off of the information we have on the player. We also wanted to see if we coud apply our findings to college basketball in an attempt to make salary predictions on a few of the players in the upcoming draft. Lastly, our group wanted to investigate these factors and determine if there are any inequitable salary disparities within professional basketball as a whole. We plan on doing so by using linear regressions, multivariable regressions, correlation coefficents, and other models to measure the impact of NBA metrics on player salary.\n",
    "\n",
    "**Hypothesis:** Our hypothesis is that the factors with the highest correlation with salary will relate to experience such as age and/or years in the league. We also beleive that the better basketball teams (teams with the best rankings) will have the budget to pay their players more money. Therefore, we anticpate that the higher ranked teams will have higher average salaries and that there will be a strong correlation between the player's ranking and salary.   \n",
    "\n",
    "**Findings:** We found that performance metrics and the player's current ranking in the league are the factors that have the highest correlation with salary. We found that there are disparities between WNBA and NBA salaries, however, we did not have enough evidence suggesting there are salary disparities on the basis of race within the NBA."
   ]
  },
  {
   "cell_type": "markdown",
   "metadata": {},
   "source": [
    "## Data Description:\n",
    "---\n",
    "The following data descriptions revolve around the data we extracted or found online. These datasets were then the basis of what we used to create new csv files which we will expand upon under our Data Cleaning section.\n",
    "\n",
    "### NBA Salaries Data\n",
    "Sid (): \n",
    "\n",
    "### WNBA Salaries Data\n",
    "This data was extracted from Spotrac's Women's National Basketball Assosiation's page. The page has each player's name, team, position, age and salary. Our team beleive's this website to be repuatable and unbiased. All of the information (apart from the salaries) can be easily assessed by anyone via the internet. Each players base salaries are decided every few years with the amount it will increase each year. This information is then released to the public. Our team was able to extract this data directly from the website and then insert it into Jupyter Notebook as a list and then append each catagory and then morphe them together into a csv file. The website link can be found at https://www.spotrac.com/wnba/rankings/base/\n",
    "\n",
    "### WNBA Rankings Data\n",
    "This data was added as a list from HashTagBasketball. The website ranks each team and moves them up or down by their performance in the most recent season. Our team assumes there is very litte bias as these rankings are based off of winnings. The rankings were created and edited by Aneela Khan and Eric Nemchock. They are both women's basketball bloggers and write for HashTagBasketball. The link can be found at https://hashtagbasketball.com/wnba/wnba-power-rankings"
   ]
  },
  {
   "cell_type": "markdown",
   "metadata": {},
   "source": [
    "## Preregistration Statements:\n",
    "---"
   ]
  },
  {
   "cell_type": "markdown",
   "metadata": {},
   "source": [
    "**Analysis 1: Which specific components contribute the most to a player's salary? Can we predict the salaries of the NBA players with these components?**\n",
    "-\n",
    "We want to create a multilinear regression model that will predict a current NBA player's salary. We will look at all of the current NBA players' salaries and different components to see if there is a correlation with salary and each component. We will analyze components relating to league performance and limited components. Some examples of  performance components we plan to anlayze will be points per game, assists per game, rebounds per game, 3 point %, free throw %, and number of 3 pointers made in a game. Some of the limited components we will look at are seniority, team the player is on, height, and the college team. We will look at all of these compenents and determine which have the strongest correlation with the salary. Given these inputs, we think we will be able to predict the salary of any given player.   "
   ]
  },
  {
   "cell_type": "markdown",
   "metadata": {},
   "source": [
    "**Analysis 2: Is there racial discrimination relating to salaries within the NBA?** \n",
    "---\n",
    " We would like to see if there is a wage gap based on race/ethnicity. We will compare the average salaries for each race and show this data. We will then look at each race's performance metrics and attempt to determine if there is a salary gap between players of these different races. We plan to capture the performance metrics of a player by looking at their performance and overall ranking.  We will then determine if the gaps (if there are any) are sustantiated or unsubstantiated. We assume the gaps will be substantiated if certain races are paid more on averge even though their performance/ranking foes not match up."
   ]
  },
  {
   "cell_type": "code",
   "execution_count": 5,
   "metadata": {},
   "outputs": [],
   "source": [
    "import json\n",
    "import requests\n",
    "import pandas as pd\n",
    "import numpy as np\n",
    "import matplotlib.pyplot as plt"
   ]
  },
  {
   "cell_type": "markdown",
   "metadata": {},
   "source": [
    "## Data Analysis:\n",
    "___\n"
   ]
  },
  {
   "cell_type": "markdown",
   "metadata": {},
   "source": [
    "### NBA Salary Data\n",
    "First we will analyze some of the NBA salaries and corresponding data. "
   ]
  },
  {
   "cell_type": "code",
   "execution_count": 85,
   "metadata": {},
   "outputs": [
    {
     "data": {
      "text/html": [
       "<div>\n",
       "<style scoped>\n",
       "    .dataframe tbody tr th:only-of-type {\n",
       "        vertical-align: middle;\n",
       "    }\n",
       "\n",
       "    .dataframe tbody tr th {\n",
       "        vertical-align: top;\n",
       "    }\n",
       "\n",
       "    .dataframe thead th {\n",
       "        text-align: right;\n",
       "    }\n",
       "</style>\n",
       "<table border=\"1\" class=\"dataframe\">\n",
       "  <thead>\n",
       "    <tr style=\"text-align: right;\">\n",
       "      <th></th>\n",
       "      <th>Unnamed: 0</th>\n",
       "      <th>player</th>\n",
       "      <th>team</th>\n",
       "      <th>AGE</th>\n",
       "      <th>MIN</th>\n",
       "      <th>GP</th>\n",
       "      <th>PTS</th>\n",
       "      <th>REB</th>\n",
       "      <th>AST</th>\n",
       "      <th>PLUS_MINUS</th>\n",
       "      <th>TOV</th>\n",
       "      <th>FG_PCT</th>\n",
       "      <th>FG3M</th>\n",
       "      <th>FG3_PCT</th>\n",
       "      <th>FTM</th>\n",
       "      <th>FT_PCT</th>\n",
       "      <th>RANK</th>\n",
       "      <th>salary</th>\n",
       "    </tr>\n",
       "  </thead>\n",
       "  <tbody>\n",
       "    <tr>\n",
       "      <th>0</th>\n",
       "      <td>0</td>\n",
       "      <td>Aaron Gordon</td>\n",
       "      <td>ORL</td>\n",
       "      <td>24.0</td>\n",
       "      <td>32.5</td>\n",
       "      <td>62</td>\n",
       "      <td>14.4</td>\n",
       "      <td>7.7</td>\n",
       "      <td>3.7</td>\n",
       "      <td>-1.1</td>\n",
       "      <td>1.6</td>\n",
       "      <td>0.437</td>\n",
       "      <td>1.2</td>\n",
       "      <td>0.308</td>\n",
       "      <td>2.4</td>\n",
       "      <td>0.674</td>\n",
       "      <td>60.0</td>\n",
       "      <td>18136364.0</td>\n",
       "    </tr>\n",
       "    <tr>\n",
       "      <th>1</th>\n",
       "      <td>1</td>\n",
       "      <td>Aaron Holiday</td>\n",
       "      <td>IND</td>\n",
       "      <td>23.0</td>\n",
       "      <td>24.5</td>\n",
       "      <td>66</td>\n",
       "      <td>9.5</td>\n",
       "      <td>2.4</td>\n",
       "      <td>3.4</td>\n",
       "      <td>1.7</td>\n",
       "      <td>1.3</td>\n",
       "      <td>0.414</td>\n",
       "      <td>1.3</td>\n",
       "      <td>0.394</td>\n",
       "      <td>1.1</td>\n",
       "      <td>0.851</td>\n",
       "      <td>314.0</td>\n",
       "      <td>2345640.0</td>\n",
       "    </tr>\n",
       "    <tr>\n",
       "      <th>2</th>\n",
       "      <td>2</td>\n",
       "      <td>Abdel Nader</td>\n",
       "      <td>OKC</td>\n",
       "      <td>26.0</td>\n",
       "      <td>15.8</td>\n",
       "      <td>55</td>\n",
       "      <td>6.3</td>\n",
       "      <td>1.8</td>\n",
       "      <td>0.7</td>\n",
       "      <td>-1.5</td>\n",
       "      <td>0.8</td>\n",
       "      <td>0.468</td>\n",
       "      <td>0.9</td>\n",
       "      <td>0.375</td>\n",
       "      <td>0.9</td>\n",
       "      <td>0.773</td>\n",
       "      <td>378.0</td>\n",
       "      <td>1752950.0</td>\n",
       "    </tr>\n",
       "    <tr>\n",
       "      <th>3</th>\n",
       "      <td>4</td>\n",
       "      <td>Admiral Schofield</td>\n",
       "      <td>WAS</td>\n",
       "      <td>23.0</td>\n",
       "      <td>11.2</td>\n",
       "      <td>33</td>\n",
       "      <td>3.0</td>\n",
       "      <td>1.4</td>\n",
       "      <td>0.5</td>\n",
       "      <td>-1.7</td>\n",
       "      <td>0.2</td>\n",
       "      <td>0.380</td>\n",
       "      <td>0.6</td>\n",
       "      <td>0.311</td>\n",
       "      <td>0.3</td>\n",
       "      <td>0.667</td>\n",
       "      <td>414.0</td>\n",
       "      <td>1517981.0</td>\n",
       "    </tr>\n",
       "    <tr>\n",
       "      <th>4</th>\n",
       "      <td>5</td>\n",
       "      <td>Al Horford</td>\n",
       "      <td>PHI</td>\n",
       "      <td>34.0</td>\n",
       "      <td>30.2</td>\n",
       "      <td>67</td>\n",
       "      <td>11.9</td>\n",
       "      <td>6.8</td>\n",
       "      <td>4.0</td>\n",
       "      <td>1.9</td>\n",
       "      <td>1.2</td>\n",
       "      <td>0.450</td>\n",
       "      <td>1.5</td>\n",
       "      <td>0.350</td>\n",
       "      <td>0.9</td>\n",
       "      <td>0.763</td>\n",
       "      <td>40.0</td>\n",
       "      <td>27500000.0</td>\n",
       "    </tr>\n",
       "  </tbody>\n",
       "</table>\n",
       "</div>"
      ],
      "text/plain": [
       "   Unnamed: 0             player team   AGE   MIN  GP   PTS  REB  AST  \\\n",
       "0           0       Aaron Gordon  ORL  24.0  32.5  62  14.4  7.7  3.7   \n",
       "1           1      Aaron Holiday  IND  23.0  24.5  66   9.5  2.4  3.4   \n",
       "2           2        Abdel Nader  OKC  26.0  15.8  55   6.3  1.8  0.7   \n",
       "3           4  Admiral Schofield  WAS  23.0  11.2  33   3.0  1.4  0.5   \n",
       "4           5         Al Horford  PHI  34.0  30.2  67  11.9  6.8  4.0   \n",
       "\n",
       "   PLUS_MINUS  TOV  FG_PCT  FG3M  FG3_PCT  FTM  FT_PCT   RANK      salary  \n",
       "0        -1.1  1.6   0.437   1.2    0.308  2.4   0.674   60.0  18136364.0  \n",
       "1         1.7  1.3   0.414   1.3    0.394  1.1   0.851  314.0   2345640.0  \n",
       "2        -1.5  0.8   0.468   0.9    0.375  0.9   0.773  378.0   1752950.0  \n",
       "3        -1.7  0.2   0.380   0.6    0.311  0.3   0.667  414.0   1517981.0  \n",
       "4         1.9  1.2   0.450   1.5    0.350  0.9   0.763   40.0  27500000.0  "
      ]
     },
     "execution_count": 85,
     "metadata": {},
     "output_type": "execute_result"
    }
   ],
   "source": [
    "player_metrics = pd.read_csv(\"nba_data.csv\")\n",
    "player_metrics.head()"
   ]
  },
  {
   "cell_type": "code",
   "execution_count": 86,
   "metadata": {},
   "outputs": [
    {
     "name": "stdout",
     "output_type": "stream",
     "text": [
      "Overall Salary Summary\n",
      "count         389.0\n",
      "mean      8600459.0\n",
      "std       9365328.0\n",
      "min        263995.0\n",
      "25%       2075880.0\n",
      "50%       4642800.0\n",
      "75%      11500000.0\n",
      "max      43006362.0\n",
      "Name: salary, dtype: float64\n"
     ]
    }
   ],
   "source": [
    "print(\"Overall Salary Summary\")\n",
    "print(round(player_metrics['salary'].describe()))"
   ]
  },
  {
   "cell_type": "code",
   "execution_count": 87,
   "metadata": {},
   "outputs": [
    {
     "name": "stdout",
     "output_type": "stream",
     "text": [
      "Top 5 Highest Paid Players\n"
     ]
    },
    {
     "data": {
      "text/html": [
       "<div>\n",
       "<style scoped>\n",
       "    .dataframe tbody tr th:only-of-type {\n",
       "        vertical-align: middle;\n",
       "    }\n",
       "\n",
       "    .dataframe tbody tr th {\n",
       "        vertical-align: top;\n",
       "    }\n",
       "\n",
       "    .dataframe thead th {\n",
       "        text-align: right;\n",
       "    }\n",
       "</style>\n",
       "<table border=\"1\" class=\"dataframe\">\n",
       "  <thead>\n",
       "    <tr style=\"text-align: right;\">\n",
       "      <th></th>\n",
       "      <th>Unnamed: 0</th>\n",
       "      <th>player</th>\n",
       "      <th>team</th>\n",
       "      <th>AGE</th>\n",
       "      <th>MIN</th>\n",
       "      <th>GP</th>\n",
       "      <th>PTS</th>\n",
       "      <th>REB</th>\n",
       "      <th>AST</th>\n",
       "      <th>PLUS_MINUS</th>\n",
       "      <th>TOV</th>\n",
       "      <th>FG_PCT</th>\n",
       "      <th>FG3M</th>\n",
       "      <th>FG3_PCT</th>\n",
       "      <th>FTM</th>\n",
       "      <th>FT_PCT</th>\n",
       "      <th>RANK</th>\n",
       "      <th>salary</th>\n",
       "    </tr>\n",
       "  </thead>\n",
       "  <tbody>\n",
       "    <tr>\n",
       "      <th>339</th>\n",
       "      <td>472</td>\n",
       "      <td>Stephen Curry</td>\n",
       "      <td>GSW</td>\n",
       "      <td>32.0</td>\n",
       "      <td>27.9</td>\n",
       "      <td>5</td>\n",
       "      <td>20.8</td>\n",
       "      <td>5.2</td>\n",
       "      <td>6.6</td>\n",
       "      <td>-9.0</td>\n",
       "      <td>3.2</td>\n",
       "      <td>0.402</td>\n",
       "      <td>2.4</td>\n",
       "      <td>0.245</td>\n",
       "      <td>5.2</td>\n",
       "      <td>1.000</td>\n",
       "      <td>1.0</td>\n",
       "      <td>43006362.0</td>\n",
       "    </tr>\n",
       "    <tr>\n",
       "      <th>53</th>\n",
       "      <td>78</td>\n",
       "      <td>Chris Paul</td>\n",
       "      <td>OKC</td>\n",
       "      <td>35.0</td>\n",
       "      <td>31.5</td>\n",
       "      <td>70</td>\n",
       "      <td>17.6</td>\n",
       "      <td>5.0</td>\n",
       "      <td>6.7</td>\n",
       "      <td>4.7</td>\n",
       "      <td>2.3</td>\n",
       "      <td>0.489</td>\n",
       "      <td>1.6</td>\n",
       "      <td>0.365</td>\n",
       "      <td>3.6</td>\n",
       "      <td>0.907</td>\n",
       "      <td>3.0</td>\n",
       "      <td>41358814.0</td>\n",
       "    </tr>\n",
       "    <tr>\n",
       "      <th>325</th>\n",
       "      <td>453</td>\n",
       "      <td>Russell Westbrook</td>\n",
       "      <td>HOU</td>\n",
       "      <td>31.0</td>\n",
       "      <td>36.0</td>\n",
       "      <td>57</td>\n",
       "      <td>27.2</td>\n",
       "      <td>7.9</td>\n",
       "      <td>7.0</td>\n",
       "      <td>2.2</td>\n",
       "      <td>4.5</td>\n",
       "      <td>0.472</td>\n",
       "      <td>1.0</td>\n",
       "      <td>0.258</td>\n",
       "      <td>5.1</td>\n",
       "      <td>0.763</td>\n",
       "      <td>2.0</td>\n",
       "      <td>41358814.0</td>\n",
       "    </tr>\n",
       "    <tr>\n",
       "      <th>166</th>\n",
       "      <td>228</td>\n",
       "      <td>James Harden</td>\n",
       "      <td>HOU</td>\n",
       "      <td>30.0</td>\n",
       "      <td>36.5</td>\n",
       "      <td>68</td>\n",
       "      <td>34.3</td>\n",
       "      <td>6.6</td>\n",
       "      <td>7.5</td>\n",
       "      <td>4.2</td>\n",
       "      <td>4.5</td>\n",
       "      <td>0.444</td>\n",
       "      <td>4.4</td>\n",
       "      <td>0.355</td>\n",
       "      <td>10.2</td>\n",
       "      <td>0.865</td>\n",
       "      <td>5.0</td>\n",
       "      <td>40824000.0</td>\n",
       "    </tr>\n",
       "    <tr>\n",
       "      <th>238</th>\n",
       "      <td>338</td>\n",
       "      <td>LeBron James</td>\n",
       "      <td>LAL</td>\n",
       "      <td>35.0</td>\n",
       "      <td>34.6</td>\n",
       "      <td>67</td>\n",
       "      <td>25.3</td>\n",
       "      <td>7.8</td>\n",
       "      <td>10.2</td>\n",
       "      <td>6.6</td>\n",
       "      <td>3.9</td>\n",
       "      <td>0.493</td>\n",
       "      <td>2.2</td>\n",
       "      <td>0.348</td>\n",
       "      <td>3.9</td>\n",
       "      <td>0.693</td>\n",
       "      <td>6.0</td>\n",
       "      <td>39219565.0</td>\n",
       "    </tr>\n",
       "  </tbody>\n",
       "</table>\n",
       "</div>"
      ],
      "text/plain": [
       "     Unnamed: 0             player team   AGE   MIN  GP   PTS  REB   AST  \\\n",
       "339         472      Stephen Curry  GSW  32.0  27.9   5  20.8  5.2   6.6   \n",
       "53           78         Chris Paul  OKC  35.0  31.5  70  17.6  5.0   6.7   \n",
       "325         453  Russell Westbrook  HOU  31.0  36.0  57  27.2  7.9   7.0   \n",
       "166         228       James Harden  HOU  30.0  36.5  68  34.3  6.6   7.5   \n",
       "238         338       LeBron James  LAL  35.0  34.6  67  25.3  7.8  10.2   \n",
       "\n",
       "     PLUS_MINUS  TOV  FG_PCT  FG3M  FG3_PCT   FTM  FT_PCT  RANK      salary  \n",
       "339        -9.0  3.2   0.402   2.4    0.245   5.2   1.000   1.0  43006362.0  \n",
       "53          4.7  2.3   0.489   1.6    0.365   3.6   0.907   3.0  41358814.0  \n",
       "325         2.2  4.5   0.472   1.0    0.258   5.1   0.763   2.0  41358814.0  \n",
       "166         4.2  4.5   0.444   4.4    0.355  10.2   0.865   5.0  40824000.0  \n",
       "238         6.6  3.9   0.493   2.2    0.348   3.9   0.693   6.0  39219565.0  "
      ]
     },
     "execution_count": 87,
     "metadata": {},
     "output_type": "execute_result"
    }
   ],
   "source": [
    "print(\"Top 5 Highest Paid Players\")\n",
    "player_metrics.nlargest(5, 'salary')"
   ]
  },
  {
   "cell_type": "code",
   "execution_count": 88,
   "metadata": {},
   "outputs": [
    {
     "name": "stdout",
     "output_type": "stream",
     "text": [
      "Top 5 Ranked Players\n"
     ]
    },
    {
     "data": {
      "text/html": [
       "<div>\n",
       "<style scoped>\n",
       "    .dataframe tbody tr th:only-of-type {\n",
       "        vertical-align: middle;\n",
       "    }\n",
       "\n",
       "    .dataframe tbody tr th {\n",
       "        vertical-align: top;\n",
       "    }\n",
       "\n",
       "    .dataframe thead th {\n",
       "        text-align: right;\n",
       "    }\n",
       "</style>\n",
       "<table border=\"1\" class=\"dataframe\">\n",
       "  <thead>\n",
       "    <tr style=\"text-align: right;\">\n",
       "      <th></th>\n",
       "      <th>Unnamed: 0</th>\n",
       "      <th>player</th>\n",
       "      <th>team</th>\n",
       "      <th>AGE</th>\n",
       "      <th>MIN</th>\n",
       "      <th>GP</th>\n",
       "      <th>PTS</th>\n",
       "      <th>REB</th>\n",
       "      <th>AST</th>\n",
       "      <th>PLUS_MINUS</th>\n",
       "      <th>TOV</th>\n",
       "      <th>FG_PCT</th>\n",
       "      <th>FG3M</th>\n",
       "      <th>FG3_PCT</th>\n",
       "      <th>FTM</th>\n",
       "      <th>FT_PCT</th>\n",
       "      <th>RANK</th>\n",
       "      <th>salary</th>\n",
       "    </tr>\n",
       "  </thead>\n",
       "  <tbody>\n",
       "    <tr>\n",
       "      <th>339</th>\n",
       "      <td>472</td>\n",
       "      <td>Stephen Curry</td>\n",
       "      <td>GSW</td>\n",
       "      <td>32.0</td>\n",
       "      <td>27.9</td>\n",
       "      <td>5</td>\n",
       "      <td>20.8</td>\n",
       "      <td>5.2</td>\n",
       "      <td>6.6</td>\n",
       "      <td>-9.0</td>\n",
       "      <td>3.2</td>\n",
       "      <td>0.402</td>\n",
       "      <td>2.4</td>\n",
       "      <td>0.245</td>\n",
       "      <td>5.2</td>\n",
       "      <td>1.000</td>\n",
       "      <td>1.0</td>\n",
       "      <td>43006362.0</td>\n",
       "    </tr>\n",
       "    <tr>\n",
       "      <th>325</th>\n",
       "      <td>453</td>\n",
       "      <td>Russell Westbrook</td>\n",
       "      <td>HOU</td>\n",
       "      <td>31.0</td>\n",
       "      <td>36.0</td>\n",
       "      <td>57</td>\n",
       "      <td>27.2</td>\n",
       "      <td>7.9</td>\n",
       "      <td>7.0</td>\n",
       "      <td>2.2</td>\n",
       "      <td>4.5</td>\n",
       "      <td>0.472</td>\n",
       "      <td>1.0</td>\n",
       "      <td>0.258</td>\n",
       "      <td>5.1</td>\n",
       "      <td>0.763</td>\n",
       "      <td>2.0</td>\n",
       "      <td>41358814.0</td>\n",
       "    </tr>\n",
       "    <tr>\n",
       "      <th>53</th>\n",
       "      <td>78</td>\n",
       "      <td>Chris Paul</td>\n",
       "      <td>OKC</td>\n",
       "      <td>35.0</td>\n",
       "      <td>31.5</td>\n",
       "      <td>70</td>\n",
       "      <td>17.6</td>\n",
       "      <td>5.0</td>\n",
       "      <td>6.7</td>\n",
       "      <td>4.7</td>\n",
       "      <td>2.3</td>\n",
       "      <td>0.489</td>\n",
       "      <td>1.6</td>\n",
       "      <td>0.365</td>\n",
       "      <td>3.6</td>\n",
       "      <td>0.907</td>\n",
       "      <td>3.0</td>\n",
       "      <td>41358814.0</td>\n",
       "    </tr>\n",
       "    <tr>\n",
       "      <th>166</th>\n",
       "      <td>228</td>\n",
       "      <td>James Harden</td>\n",
       "      <td>HOU</td>\n",
       "      <td>30.0</td>\n",
       "      <td>36.5</td>\n",
       "      <td>68</td>\n",
       "      <td>34.3</td>\n",
       "      <td>6.6</td>\n",
       "      <td>7.5</td>\n",
       "      <td>4.2</td>\n",
       "      <td>4.5</td>\n",
       "      <td>0.444</td>\n",
       "      <td>4.4</td>\n",
       "      <td>0.355</td>\n",
       "      <td>10.2</td>\n",
       "      <td>0.865</td>\n",
       "      <td>5.0</td>\n",
       "      <td>40824000.0</td>\n",
       "    </tr>\n",
       "    <tr>\n",
       "      <th>238</th>\n",
       "      <td>338</td>\n",
       "      <td>LeBron James</td>\n",
       "      <td>LAL</td>\n",
       "      <td>35.0</td>\n",
       "      <td>34.6</td>\n",
       "      <td>67</td>\n",
       "      <td>25.3</td>\n",
       "      <td>7.8</td>\n",
       "      <td>10.2</td>\n",
       "      <td>6.6</td>\n",
       "      <td>3.9</td>\n",
       "      <td>0.493</td>\n",
       "      <td>2.2</td>\n",
       "      <td>0.348</td>\n",
       "      <td>3.9</td>\n",
       "      <td>0.693</td>\n",
       "      <td>6.0</td>\n",
       "      <td>39219565.0</td>\n",
       "    </tr>\n",
       "  </tbody>\n",
       "</table>\n",
       "</div>"
      ],
      "text/plain": [
       "     Unnamed: 0             player team   AGE   MIN  GP   PTS  REB   AST  \\\n",
       "339         472      Stephen Curry  GSW  32.0  27.9   5  20.8  5.2   6.6   \n",
       "325         453  Russell Westbrook  HOU  31.0  36.0  57  27.2  7.9   7.0   \n",
       "53           78         Chris Paul  OKC  35.0  31.5  70  17.6  5.0   6.7   \n",
       "166         228       James Harden  HOU  30.0  36.5  68  34.3  6.6   7.5   \n",
       "238         338       LeBron James  LAL  35.0  34.6  67  25.3  7.8  10.2   \n",
       "\n",
       "     PLUS_MINUS  TOV  FG_PCT  FG3M  FG3_PCT   FTM  FT_PCT  RANK      salary  \n",
       "339        -9.0  3.2   0.402   2.4    0.245   5.2   1.000   1.0  43006362.0  \n",
       "325         2.2  4.5   0.472   1.0    0.258   5.1   0.763   2.0  41358814.0  \n",
       "53          4.7  2.3   0.489   1.6    0.365   3.6   0.907   3.0  41358814.0  \n",
       "166         4.2  4.5   0.444   4.4    0.355  10.2   0.865   5.0  40824000.0  \n",
       "238         6.6  3.9   0.493   2.2    0.348   3.9   0.693   6.0  39219565.0  "
      ]
     },
     "execution_count": 88,
     "metadata": {},
     "output_type": "execute_result"
    }
   ],
   "source": [
    "print(\"Top 5 Ranked Players\")\n",
    "player_metrics.nsmallest(5, 'RANK')"
   ]
  },
  {
   "cell_type": "code",
   "execution_count": 89,
   "metadata": {},
   "outputs": [
    {
     "data": {
      "image/png": "[encoded data removed]",
      "text/plain": [
       "<Figure size 432x288 with 1 Axes>"
      ]
     },
     "metadata": {
      "needs_background": "light"
     },
     "output_type": "display_data"
    }
   ],
   "source": [
    "sns.regplot(x=\"RANK\", y=\"salary\", data=player_metrics)\n",
    "plt.xlabel('Ranking')\n",
    "plt.ylabel('Salary')\n",
    "plt.title('NBA Salaries by Ranking')\n",
    "plt.show()"
   ]
  },
  {
   "cell_type": "code",
   "execution_count": 90,
   "metadata": {},
   "outputs": [
    {
     "name": "stdout",
     "output_type": "stream",
     "text": [
      "Top 5 Youngest Players\n"
     ]
    },
    {
     "data": {
      "text/html": [
       "<div>\n",
       "<style scoped>\n",
       "    .dataframe tbody tr th:only-of-type {\n",
       "        vertical-align: middle;\n",
       "    }\n",
       "\n",
       "    .dataframe tbody tr th {\n",
       "        vertical-align: top;\n",
       "    }\n",
       "\n",
       "    .dataframe thead th {\n",
       "        text-align: right;\n",
       "    }\n",
       "</style>\n",
       "<table border=\"1\" class=\"dataframe\">\n",
       "  <thead>\n",
       "    <tr style=\"text-align: right;\">\n",
       "      <th></th>\n",
       "      <th>Unnamed: 0</th>\n",
       "      <th>player</th>\n",
       "      <th>team</th>\n",
       "      <th>AGE</th>\n",
       "      <th>MIN</th>\n",
       "      <th>GP</th>\n",
       "      <th>PTS</th>\n",
       "      <th>REB</th>\n",
       "      <th>AST</th>\n",
       "      <th>PLUS_MINUS</th>\n",
       "      <th>TOV</th>\n",
       "      <th>FG_PCT</th>\n",
       "      <th>FG3M</th>\n",
       "      <th>FG3_PCT</th>\n",
       "      <th>FTM</th>\n",
       "      <th>FT_PCT</th>\n",
       "      <th>RANK</th>\n",
       "      <th>salary</th>\n",
       "    </tr>\n",
       "  </thead>\n",
       "  <tbody>\n",
       "    <tr>\n",
       "      <th>328</th>\n",
       "      <td>457</td>\n",
       "      <td>Sekou Doumbouya</td>\n",
       "      <td>DET</td>\n",
       "      <td>19.0</td>\n",
       "      <td>19.8</td>\n",
       "      <td>38</td>\n",
       "      <td>6.4</td>\n",
       "      <td>3.1</td>\n",
       "      <td>0.5</td>\n",
       "      <td>-4.6</td>\n",
       "      <td>0.9</td>\n",
       "      <td>0.390</td>\n",
       "      <td>0.7</td>\n",
       "      <td>0.286</td>\n",
       "      <td>0.8</td>\n",
       "      <td>0.674</td>\n",
       "      <td>266.0</td>\n",
       "      <td>3449400.0</td>\n",
       "    </tr>\n",
       "    <tr>\n",
       "      <th>347</th>\n",
       "      <td>482</td>\n",
       "      <td>Talen Horton-Tucker</td>\n",
       "      <td>LAL</td>\n",
       "      <td>19.0</td>\n",
       "      <td>13.5</td>\n",
       "      <td>6</td>\n",
       "      <td>5.7</td>\n",
       "      <td>1.2</td>\n",
       "      <td>1.0</td>\n",
       "      <td>-3.0</td>\n",
       "      <td>1.0</td>\n",
       "      <td>0.467</td>\n",
       "      <td>0.7</td>\n",
       "      <td>0.308</td>\n",
       "      <td>0.3</td>\n",
       "      <td>0.500</td>\n",
       "      <td>420.0</td>\n",
       "      <td>1517981.0</td>\n",
       "    </tr>\n",
       "    <tr>\n",
       "      <th>387</th>\n",
       "      <td>544</td>\n",
       "      <td>Zion Williamson</td>\n",
       "      <td>NOP</td>\n",
       "      <td>19.0</td>\n",
       "      <td>27.8</td>\n",
       "      <td>24</td>\n",
       "      <td>22.5</td>\n",
       "      <td>6.3</td>\n",
       "      <td>2.1</td>\n",
       "      <td>2.6</td>\n",
       "      <td>2.5</td>\n",
       "      <td>0.583</td>\n",
       "      <td>0.3</td>\n",
       "      <td>0.429</td>\n",
       "      <td>4.8</td>\n",
       "      <td>0.640</td>\n",
       "      <td>117.0</td>\n",
       "      <td>10245480.0</td>\n",
       "    </tr>\n",
       "    <tr>\n",
       "      <th>29</th>\n",
       "      <td>44</td>\n",
       "      <td>Bol Bol</td>\n",
       "      <td>DEN</td>\n",
       "      <td>20.0</td>\n",
       "      <td>12.4</td>\n",
       "      <td>7</td>\n",
       "      <td>5.7</td>\n",
       "      <td>2.7</td>\n",
       "      <td>0.9</td>\n",
       "      <td>-3.0</td>\n",
       "      <td>1.4</td>\n",
       "      <td>0.500</td>\n",
       "      <td>0.6</td>\n",
       "      <td>0.444</td>\n",
       "      <td>1.1</td>\n",
       "      <td>0.800</td>\n",
       "      <td>344.0</td>\n",
       "      <td>2058240.0</td>\n",
       "    </tr>\n",
       "    <tr>\n",
       "      <th>43</th>\n",
       "      <td>62</td>\n",
       "      <td>Cam Reddish</td>\n",
       "      <td>ATL</td>\n",
       "      <td>20.0</td>\n",
       "      <td>26.7</td>\n",
       "      <td>58</td>\n",
       "      <td>10.5</td>\n",
       "      <td>3.7</td>\n",
       "      <td>1.5</td>\n",
       "      <td>-4.2</td>\n",
       "      <td>1.7</td>\n",
       "      <td>0.384</td>\n",
       "      <td>1.4</td>\n",
       "      <td>0.332</td>\n",
       "      <td>1.7</td>\n",
       "      <td>0.802</td>\n",
       "      <td>224.0</td>\n",
       "      <td>4458000.0</td>\n",
       "    </tr>\n",
       "  </tbody>\n",
       "</table>\n",
       "</div>"
      ],
      "text/plain": [
       "     Unnamed: 0               player team   AGE   MIN  GP   PTS  REB  AST  \\\n",
       "328         457      Sekou Doumbouya  DET  19.0  19.8  38   6.4  3.1  0.5   \n",
       "347         482  Talen Horton-Tucker  LAL  19.0  13.5   6   5.7  1.2  1.0   \n",
       "387         544      Zion Williamson  NOP  19.0  27.8  24  22.5  6.3  2.1   \n",
       "29           44              Bol Bol  DEN  20.0  12.4   7   5.7  2.7  0.9   \n",
       "43           62          Cam Reddish  ATL  20.0  26.7  58  10.5  3.7  1.5   \n",
       "\n",
       "     PLUS_MINUS  TOV  FG_PCT  FG3M  FG3_PCT  FTM  FT_PCT   RANK      salary  \n",
       "328        -4.6  0.9   0.390   0.7    0.286  0.8   0.674  266.0   3449400.0  \n",
       "347        -3.0  1.0   0.467   0.7    0.308  0.3   0.500  420.0   1517981.0  \n",
       "387         2.6  2.5   0.583   0.3    0.429  4.8   0.640  117.0  10245480.0  \n",
       "29         -3.0  1.4   0.500   0.6    0.444  1.1   0.800  344.0   2058240.0  \n",
       "43         -4.2  1.7   0.384   1.4    0.332  1.7   0.802  224.0   4458000.0  "
      ]
     },
     "execution_count": 90,
     "metadata": {},
     "output_type": "execute_result"
    }
   ],
   "source": [
    "print(\"Top 5 Youngest Players\")\n",
    "player_metrics.nsmallest(5, 'AGE')"
   ]
  },
  {
   "cell_type": "code",
   "execution_count": 91,
   "metadata": {},
   "outputs": [
    {
     "name": "stdout",
     "output_type": "stream",
     "text": [
      "Top 5 Oldest Players\n"
     ]
    },
    {
     "data": {
      "text/html": [
       "<div>\n",
       "<style scoped>\n",
       "    .dataframe tbody tr th:only-of-type {\n",
       "        vertical-align: middle;\n",
       "    }\n",
       "\n",
       "    .dataframe tbody tr th {\n",
       "        vertical-align: top;\n",
       "    }\n",
       "\n",
       "    .dataframe thead th {\n",
       "        text-align: right;\n",
       "    }\n",
       "</style>\n",
       "<table border=\"1\" class=\"dataframe\">\n",
       "  <thead>\n",
       "    <tr style=\"text-align: right;\">\n",
       "      <th></th>\n",
       "      <th>Unnamed: 0</th>\n",
       "      <th>player</th>\n",
       "      <th>team</th>\n",
       "      <th>AGE</th>\n",
       "      <th>MIN</th>\n",
       "      <th>GP</th>\n",
       "      <th>PTS</th>\n",
       "      <th>REB</th>\n",
       "      <th>AST</th>\n",
       "      <th>PLUS_MINUS</th>\n",
       "      <th>TOV</th>\n",
       "      <th>FG_PCT</th>\n",
       "      <th>FG3M</th>\n",
       "      <th>FG3_PCT</th>\n",
       "      <th>FTM</th>\n",
       "      <th>FT_PCT</th>\n",
       "      <th>RANK</th>\n",
       "      <th>salary</th>\n",
       "    </tr>\n",
       "  </thead>\n",
       "  <tbody>\n",
       "    <tr>\n",
       "      <th>373</th>\n",
       "      <td>521</td>\n",
       "      <td>Udonis Haslem</td>\n",
       "      <td>MIA</td>\n",
       "      <td>40.0</td>\n",
       "      <td>11.0</td>\n",
       "      <td>4</td>\n",
       "      <td>3.0</td>\n",
       "      <td>4.0</td>\n",
       "      <td>0.3</td>\n",
       "      <td>-4.8</td>\n",
       "      <td>0.3</td>\n",
       "      <td>0.364</td>\n",
       "      <td>0.3</td>\n",
       "      <td>0.333</td>\n",
       "      <td>0.8</td>\n",
       "      <td>0.750</td>\n",
       "      <td>302.0</td>\n",
       "      <td>2564753.0</td>\n",
       "    </tr>\n",
       "    <tr>\n",
       "      <th>14</th>\n",
       "      <td>20</td>\n",
       "      <td>Andre Iguodala</td>\n",
       "      <td>MIA</td>\n",
       "      <td>36.0</td>\n",
       "      <td>19.9</td>\n",
       "      <td>21</td>\n",
       "      <td>4.6</td>\n",
       "      <td>3.7</td>\n",
       "      <td>2.4</td>\n",
       "      <td>-1.2</td>\n",
       "      <td>1.2</td>\n",
       "      <td>0.432</td>\n",
       "      <td>0.7</td>\n",
       "      <td>0.298</td>\n",
       "      <td>0.3</td>\n",
       "      <td>0.400</td>\n",
       "      <td>80.0</td>\n",
       "      <td>15000000.0</td>\n",
       "    </tr>\n",
       "    <tr>\n",
       "      <th>47</th>\n",
       "      <td>66</td>\n",
       "      <td>Carmelo Anthony</td>\n",
       "      <td>POR</td>\n",
       "      <td>36.0</td>\n",
       "      <td>32.8</td>\n",
       "      <td>58</td>\n",
       "      <td>15.4</td>\n",
       "      <td>6.3</td>\n",
       "      <td>1.5</td>\n",
       "      <td>0.3</td>\n",
       "      <td>1.7</td>\n",
       "      <td>0.430</td>\n",
       "      <td>1.5</td>\n",
       "      <td>0.385</td>\n",
       "      <td>2.3</td>\n",
       "      <td>0.845</td>\n",
       "      <td>299.0</td>\n",
       "      <td>2564753.0</td>\n",
       "    </tr>\n",
       "    <tr>\n",
       "      <th>150</th>\n",
       "      <td>207</td>\n",
       "      <td>J.J. Barea</td>\n",
       "      <td>DAL</td>\n",
       "      <td>36.0</td>\n",
       "      <td>15.5</td>\n",
       "      <td>29</td>\n",
       "      <td>7.7</td>\n",
       "      <td>1.8</td>\n",
       "      <td>3.9</td>\n",
       "      <td>0.7</td>\n",
       "      <td>1.3</td>\n",
       "      <td>0.411</td>\n",
       "      <td>1.1</td>\n",
       "      <td>0.376</td>\n",
       "      <td>0.7</td>\n",
       "      <td>0.909</td>\n",
       "      <td>306.0</td>\n",
       "      <td>2564753.0</td>\n",
       "    </tr>\n",
       "    <tr>\n",
       "      <th>53</th>\n",
       "      <td>78</td>\n",
       "      <td>Chris Paul</td>\n",
       "      <td>OKC</td>\n",
       "      <td>35.0</td>\n",
       "      <td>31.5</td>\n",
       "      <td>70</td>\n",
       "      <td>17.6</td>\n",
       "      <td>5.0</td>\n",
       "      <td>6.7</td>\n",
       "      <td>4.7</td>\n",
       "      <td>2.3</td>\n",
       "      <td>0.489</td>\n",
       "      <td>1.6</td>\n",
       "      <td>0.365</td>\n",
       "      <td>3.6</td>\n",
       "      <td>0.907</td>\n",
       "      <td>3.0</td>\n",
       "      <td>41358814.0</td>\n",
       "    </tr>\n",
       "  </tbody>\n",
       "</table>\n",
       "</div>"
      ],
      "text/plain": [
       "     Unnamed: 0           player team   AGE   MIN  GP   PTS  REB  AST  \\\n",
       "373         521    Udonis Haslem  MIA  40.0  11.0   4   3.0  4.0  0.3   \n",
       "14           20   Andre Iguodala  MIA  36.0  19.9  21   4.6  3.7  2.4   \n",
       "47           66  Carmelo Anthony  POR  36.0  32.8  58  15.4  6.3  1.5   \n",
       "150         207       J.J. Barea  DAL  36.0  15.5  29   7.7  1.8  3.9   \n",
       "53           78       Chris Paul  OKC  35.0  31.5  70  17.6  5.0  6.7   \n",
       "\n",
       "     PLUS_MINUS  TOV  FG_PCT  FG3M  FG3_PCT  FTM  FT_PCT   RANK      salary  \n",
       "373        -4.8  0.3   0.364   0.3    0.333  0.8   0.750  302.0   2564753.0  \n",
       "14         -1.2  1.2   0.432   0.7    0.298  0.3   0.400   80.0  15000000.0  \n",
       "47          0.3  1.7   0.430   1.5    0.385  2.3   0.845  299.0   2564753.0  \n",
       "150         0.7  1.3   0.411   1.1    0.376  0.7   0.909  306.0   2564753.0  \n",
       "53          4.7  2.3   0.489   1.6    0.365  3.6   0.907    3.0  41358814.0  "
      ]
     },
     "execution_count": 91,
     "metadata": {},
     "output_type": "execute_result"
    }
   ],
   "source": [
    "print(\"Top 5 Oldest Players\")\n",
    "player_metrics.nlargest(5, 'AGE')"
   ]
  },
  {
   "cell_type": "code",
   "execution_count": 92,
   "metadata": {},
   "outputs": [
    {
     "data": {
      "image/png": "[encoded data removed]",
      "text/plain": [
       "<Figure size 432x288 with 1 Axes>"
      ]
     },
     "metadata": {
      "needs_background": "light"
     },
     "output_type": "display_data"
    }
   ],
   "source": [
    "sns.regplot(x=\"AGE\", y=\"salary\", data=player_metrics)\n",
    "plt.xlabel('Age')\n",
    "plt.ylabel('Salary')\n",
    "plt.title('NBA Salaries by Age')\n",
    "plt.show()"
   ]
  },
  {
   "cell_type": "code",
   "execution_count": 194,
   "metadata": {},
   "outputs": [
    {
     "name": "stdout",
     "output_type": "stream",
     "text": [
      "Top Paying Teams in the League\n"
     ]
    },
    {
     "data": {
      "text/html": [
       "<div>\n",
       "<style scoped>\n",
       "    .dataframe tbody tr th:only-of-type {\n",
       "        vertical-align: middle;\n",
       "    }\n",
       "\n",
       "    .dataframe tbody tr th {\n",
       "        vertical-align: top;\n",
       "    }\n",
       "\n",
       "    .dataframe thead th {\n",
       "        text-align: right;\n",
       "    }\n",
       "</style>\n",
       "<table border=\"1\" class=\"dataframe\">\n",
       "  <thead>\n",
       "    <tr style=\"text-align: right;\">\n",
       "      <th></th>\n",
       "      <th>salary</th>\n",
       "    </tr>\n",
       "    <tr>\n",
       "      <th>team</th>\n",
       "      <th></th>\n",
       "    </tr>\n",
       "  </thead>\n",
       "  <tbody>\n",
       "    <tr>\n",
       "      <th>GSW</th>\n",
       "      <td>12033644.0</td>\n",
       "    </tr>\n",
       "    <tr>\n",
       "      <th>CLE</th>\n",
       "      <td>11454659.0</td>\n",
       "    </tr>\n",
       "    <tr>\n",
       "      <th>PHI</th>\n",
       "      <td>11037608.0</td>\n",
       "    </tr>\n",
       "    <tr>\n",
       "      <th>SAS</th>\n",
       "      <td>10882664.0</td>\n",
       "    </tr>\n",
       "    <tr>\n",
       "      <th>MIL</th>\n",
       "      <td>10548104.0</td>\n",
       "    </tr>\n",
       "    <tr>\n",
       "      <th>DET</th>\n",
       "      <td>10337961.0</td>\n",
       "    </tr>\n",
       "    <tr>\n",
       "      <th>UTA</th>\n",
       "      <td>9892110.0</td>\n",
       "    </tr>\n",
       "    <tr>\n",
       "      <th>DEN</th>\n",
       "      <td>9872189.0</td>\n",
       "    </tr>\n",
       "    <tr>\n",
       "      <th>HOU</th>\n",
       "      <td>9811627.0</td>\n",
       "    </tr>\n",
       "    <tr>\n",
       "      <th>BKN</th>\n",
       "      <td>9652254.0</td>\n",
       "    </tr>\n",
       "  </tbody>\n",
       "</table>\n",
       "</div>"
      ],
      "text/plain": [
       "          salary\n",
       "team            \n",
       "GSW   12033644.0\n",
       "CLE   11454659.0\n",
       "PHI   11037608.0\n",
       "SAS   10882664.0\n",
       "MIL   10548104.0\n",
       "DET   10337961.0\n",
       "UTA    9892110.0\n",
       "DEN    9872189.0\n",
       "HOU    9811627.0\n",
       "BKN    9652254.0"
      ]
     },
     "execution_count": 194,
     "metadata": {},
     "output_type": "execute_result"
    }
   ],
   "source": [
    "team_data = player_metrics.copy()\n",
    "print(\"Top Paying Teams in the League\")\n",
    "team_data.groupby(\"team\")[\"salary\"].mean().round(0).nlargest(10).to_frame()"
   ]
  },
  {
   "cell_type": "code",
   "execution_count": 292,
   "metadata": {},
   "outputs": [
    {
     "name": "stdout",
     "output_type": "stream",
     "text": [
      "Team Average Salary Stats\n"
     ]
    },
    {
     "data": {
      "text/plain": [
       "count          30.0\n",
       "mean      8661721.0\n",
       "std       1881180.0\n",
       "min       4338117.0\n",
       "25%       7774265.0\n",
       "50%       8596088.0\n",
       "75%       9857049.0\n",
       "max      12033644.0\n",
       "Name: salary, dtype: float64"
      ]
     },
     "execution_count": 292,
     "metadata": {},
     "output_type": "execute_result"
    }
   ],
   "source": [
    "print(\"Team Average Salary Stats\")\n",
    "team_data.groupby(\"team\")[\"salary\"].mean().describe().round(0)"
   ]
  },
  {
   "cell_type": "code",
   "execution_count": 195,
   "metadata": {},
   "outputs": [
    {
     "name": "stdout",
     "output_type": "stream",
     "text": [
      "Lowest Paying Teams in the League\n"
     ]
    },
    {
     "data": {
      "text/html": [
       "<div>\n",
       "<style scoped>\n",
       "    .dataframe tbody tr th:only-of-type {\n",
       "        vertical-align: middle;\n",
       "    }\n",
       "\n",
       "    .dataframe tbody tr th {\n",
       "        vertical-align: top;\n",
       "    }\n",
       "\n",
       "    .dataframe thead th {\n",
       "        text-align: right;\n",
       "    }\n",
       "</style>\n",
       "<table border=\"1\" class=\"dataframe\">\n",
       "  <thead>\n",
       "    <tr style=\"text-align: right;\">\n",
       "      <th></th>\n",
       "      <th>salary</th>\n",
       "    </tr>\n",
       "    <tr>\n",
       "      <th>team</th>\n",
       "      <th></th>\n",
       "    </tr>\n",
       "  </thead>\n",
       "  <tbody>\n",
       "    <tr>\n",
       "      <th>ATL</th>\n",
       "      <td>4338117.0</td>\n",
       "    </tr>\n",
       "    <tr>\n",
       "      <th>NYK</th>\n",
       "      <td>4982542.0</td>\n",
       "    </tr>\n",
       "    <tr>\n",
       "      <th>CHI</th>\n",
       "      <td>5853713.0</td>\n",
       "    </tr>\n",
       "    <tr>\n",
       "      <th>WAS</th>\n",
       "      <td>6226128.0</td>\n",
       "    </tr>\n",
       "    <tr>\n",
       "      <th>CHA</th>\n",
       "      <td>6235696.0</td>\n",
       "    </tr>\n",
       "    <tr>\n",
       "      <th>DAL</th>\n",
       "      <td>6787000.0</td>\n",
       "    </tr>\n",
       "    <tr>\n",
       "      <th>NOP</th>\n",
       "      <td>7547215.0</td>\n",
       "    </tr>\n",
       "    <tr>\n",
       "      <th>MEM</th>\n",
       "      <td>7757493.0</td>\n",
       "    </tr>\n",
       "    <tr>\n",
       "      <th>MIA</th>\n",
       "      <td>7824580.0</td>\n",
       "    </tr>\n",
       "    <tr>\n",
       "      <th>PHX</th>\n",
       "      <td>8135271.0</td>\n",
       "    </tr>\n",
       "  </tbody>\n",
       "</table>\n",
       "</div>"
      ],
      "text/plain": [
       "         salary\n",
       "team           \n",
       "ATL   4338117.0\n",
       "NYK   4982542.0\n",
       "CHI   5853713.0\n",
       "WAS   6226128.0\n",
       "CHA   6235696.0\n",
       "DAL   6787000.0\n",
       "NOP   7547215.0\n",
       "MEM   7757493.0\n",
       "MIA   7824580.0\n",
       "PHX   8135271.0"
      ]
     },
     "execution_count": 195,
     "metadata": {},
     "output_type": "execute_result"
    }
   ],
   "source": [
    "print(\"Lowest Paying Teams in the League\")\n",
    "team_data.groupby(\"team\")[\"salary\"].mean().round(0).nsmallest(10).to_frame()"
   ]
  },
  {
   "cell_type": "code",
   "execution_count": 97,
   "metadata": {},
   "outputs": [
    {
     "data": {
      "text/html": [
       "<div>\n",
       "<style scoped>\n",
       "    .dataframe tbody tr th:only-of-type {\n",
       "        vertical-align: middle;\n",
       "    }\n",
       "\n",
       "    .dataframe tbody tr th {\n",
       "        vertical-align: top;\n",
       "    }\n",
       "\n",
       "    .dataframe thead th {\n",
       "        text-align: right;\n",
       "    }\n",
       "</style>\n",
       "<table border=\"1\" class=\"dataframe\">\n",
       "  <thead>\n",
       "    <tr style=\"text-align: right;\">\n",
       "      <th></th>\n",
       "      <th>Unnamed: 0</th>\n",
       "      <th>player</th>\n",
       "      <th>team</th>\n",
       "      <th>AGE</th>\n",
       "      <th>RANK</th>\n",
       "      <th>salary</th>\n",
       "      <th>college</th>\n",
       "      <th>height</th>\n",
       "      <th>position</th>\n",
       "      <th>weight</th>\n",
       "      <th>shoots</th>\n",
       "    </tr>\n",
       "  </thead>\n",
       "  <tbody>\n",
       "    <tr>\n",
       "      <th>0</th>\n",
       "      <td>22</td>\n",
       "      <td>Steven Adams</td>\n",
       "      <td>OKC</td>\n",
       "      <td>26.0</td>\n",
       "      <td>39.0</td>\n",
       "      <td>27528090.0</td>\n",
       "      <td>University of Pittsburgh</td>\n",
       "      <td>7.00</td>\n",
       "      <td>Center</td>\n",
       "      <td>265.0</td>\n",
       "      <td>Right</td>\n",
       "    </tr>\n",
       "    <tr>\n",
       "      <th>1</th>\n",
       "      <td>24</td>\n",
       "      <td>Bam Adebayo</td>\n",
       "      <td>MIA</td>\n",
       "      <td>22.0</td>\n",
       "      <td>200.0</td>\n",
       "      <td>5115492.0</td>\n",
       "      <td>University of Kentucky</td>\n",
       "      <td>6.10</td>\n",
       "      <td>Center</td>\n",
       "      <td>255.0</td>\n",
       "      <td>Right</td>\n",
       "    </tr>\n",
       "    <tr>\n",
       "      <th>2</th>\n",
       "      <td>43</td>\n",
       "      <td>LaMarcus Aldridge</td>\n",
       "      <td>SAS</td>\n",
       "      <td>34.0</td>\n",
       "      <td>59.0</td>\n",
       "      <td>19078340.0</td>\n",
       "      <td>University of Texas at Austin</td>\n",
       "      <td>6.11</td>\n",
       "      <td>Power Forward and Center</td>\n",
       "      <td>260.0</td>\n",
       "      <td>Right</td>\n",
       "    </tr>\n",
       "    <tr>\n",
       "      <th>3</th>\n",
       "      <td>44</td>\n",
       "      <td>LaMarcus Aldridge</td>\n",
       "      <td>SAS</td>\n",
       "      <td>34.0</td>\n",
       "      <td>468.0</td>\n",
       "      <td>19078340.0</td>\n",
       "      <td>University of Texas at Austin</td>\n",
       "      <td>6.11</td>\n",
       "      <td>Power Forward and Center</td>\n",
       "      <td>260.0</td>\n",
       "      <td>Right</td>\n",
       "    </tr>\n",
       "    <tr>\n",
       "      <th>4</th>\n",
       "      <td>56</td>\n",
       "      <td>Grayson Allen</td>\n",
       "      <td>MEM</td>\n",
       "      <td>24.0</td>\n",
       "      <td>308.0</td>\n",
       "      <td>2545320.0</td>\n",
       "      <td>Duke University</td>\n",
       "      <td>6.50</td>\n",
       "      <td>Shooting Guard</td>\n",
       "      <td>198.0</td>\n",
       "      <td>Right</td>\n",
       "    </tr>\n",
       "  </tbody>\n",
       "</table>\n",
       "</div>"
      ],
      "text/plain": [
       "   Unnamed: 0             player team   AGE   RANK      salary  \\\n",
       "0          22       Steven Adams  OKC  26.0   39.0  27528090.0   \n",
       "1          24        Bam Adebayo  MIA  22.0  200.0   5115492.0   \n",
       "2          43  LaMarcus Aldridge  SAS  34.0   59.0  19078340.0   \n",
       "3          44  LaMarcus Aldridge  SAS  34.0  468.0  19078340.0   \n",
       "4          56      Grayson Allen  MEM  24.0  308.0   2545320.0   \n",
       "\n",
       "                         college  height                  position  weight  \\\n",
       "0       University of Pittsburgh    7.00                    Center   265.0   \n",
       "1         University of Kentucky    6.10                    Center   255.0   \n",
       "2  University of Texas at Austin    6.11  Power Forward and Center   260.0   \n",
       "3  University of Texas at Austin    6.11  Power Forward and Center   260.0   \n",
       "4                Duke University    6.50            Shooting Guard   198.0   \n",
       "\n",
       "  shoots  \n",
       "0  Right  \n",
       "1  Right  \n",
       "2  Right  \n",
       "3  Right  \n",
       "4  Right  "
      ]
     },
     "execution_count": 97,
     "metadata": {},
     "output_type": "execute_result"
    }
   ],
   "source": [
    "nba_background = pd.read_csv(\"nba_background.csv\")\n",
    "nba_background.head()"
   ]
  },
  {
   "cell_type": "code",
   "execution_count": 99,
   "metadata": {},
   "outputs": [
    {
     "data": {
      "image/png": "[encoded data removed]",
      "text/plain": [
       "<Figure size 432x288 with 1 Axes>"
      ]
     },
     "metadata": {
      "needs_background": "light"
     },
     "output_type": "display_data"
    }
   ],
   "source": [
    "sns.regplot(x=\"height\", y=\"salary\", data=nba_background)\n",
    "plt.xlabel('Height')\n",
    "plt.ylabel('Salary')\n",
    "plt.title('NBA Salaries by Height')\n",
    "plt.show()"
   ]
  },
  {
   "cell_type": "code",
   "execution_count": 189,
   "metadata": {},
   "outputs": [
    {
     "name": "stdout",
     "output_type": "stream",
     "text": [
      "Mean Salary of All Players in NBA: 8600458.691516709\n",
      "Mean Salary of NBA Players that played in a US College: 9930564.166666666\n"
     ]
    }
   ],
   "source": [
    "print(\"Mean Salary of All Players in NBA:\", player_metrics['salary'].round(1).mean())\n",
    "print(\"Mean Salary of NBA Players that played in a US College:\", nba_background['salary'].round(1).mean())"
   ]
  },
  {
   "cell_type": "code",
   "execution_count": 190,
   "metadata": {},
   "outputs": [
    {
     "name": "stdout",
     "output_type": "stream",
     "text": [
      "Top Colleges: Schools with the Most Players in the League\n"
     ]
    },
    {
     "data": {
      "text/html": [
       "<div>\n",
       "<style scoped>\n",
       "    .dataframe tbody tr th:only-of-type {\n",
       "        vertical-align: middle;\n",
       "    }\n",
       "\n",
       "    .dataframe tbody tr th {\n",
       "        vertical-align: top;\n",
       "    }\n",
       "\n",
       "    .dataframe thead th {\n",
       "        text-align: right;\n",
       "    }\n",
       "</style>\n",
       "<table border=\"1\" class=\"dataframe\">\n",
       "  <thead>\n",
       "    <tr style=\"text-align: right;\">\n",
       "      <th></th>\n",
       "      <th>player</th>\n",
       "    </tr>\n",
       "    <tr>\n",
       "      <th>college</th>\n",
       "      <th></th>\n",
       "    </tr>\n",
       "  </thead>\n",
       "  <tbody>\n",
       "    <tr>\n",
       "      <th>University of Kentucky</th>\n",
       "      <td>18</td>\n",
       "    </tr>\n",
       "    <tr>\n",
       "      <th>Duke University</th>\n",
       "      <td>17</td>\n",
       "    </tr>\n",
       "    <tr>\n",
       "      <th>University of California, Los Angeles</th>\n",
       "      <td>11</td>\n",
       "    </tr>\n",
       "    <tr>\n",
       "      <th>University of Texas at Austin</th>\n",
       "      <td>9</td>\n",
       "    </tr>\n",
       "    <tr>\n",
       "      <th>University of Kansas</th>\n",
       "      <td>8</td>\n",
       "    </tr>\n",
       "    <tr>\n",
       "      <th>University of North Carolina</th>\n",
       "      <td>8</td>\n",
       "    </tr>\n",
       "    <tr>\n",
       "      <th>Villanova University</th>\n",
       "      <td>7</td>\n",
       "    </tr>\n",
       "    <tr>\n",
       "      <th>Wake Forest University</th>\n",
       "      <td>7</td>\n",
       "    </tr>\n",
       "    <tr>\n",
       "      <th>Indiana University</th>\n",
       "      <td>6</td>\n",
       "    </tr>\n",
       "    <tr>\n",
       "      <th>Michigan State University</th>\n",
       "      <td>6</td>\n",
       "    </tr>\n",
       "  </tbody>\n",
       "</table>\n",
       "</div>"
      ],
      "text/plain": [
       "                                       player\n",
       "college                                      \n",
       "University of Kentucky                     18\n",
       "Duke University                            17\n",
       "University of California, Los Angeles      11\n",
       "University of Texas at Austin               9\n",
       "University of Kansas                        8\n",
       "University of North Carolina                8\n",
       "Villanova University                        7\n",
       "Wake Forest University                      7\n",
       "Indiana University                          6\n",
       "Michigan State University                   6"
      ]
     },
     "execution_count": 190,
     "metadata": {},
     "output_type": "execute_result"
    }
   ],
   "source": [
    "college_data = nba_background.copy()\n",
    "college_data = college_data[college_data.groupby('college').college.transform('count')>2]\n",
    "\n",
    "print(\"Top Colleges: Schools with the Most Players in the League\")\n",
    "college_data.groupby(\"college\")[\"player\"].count().nlargest(10).to_frame()"
   ]
  },
  {
   "cell_type": "code",
   "execution_count": 169,
   "metadata": {},
   "outputs": [
    {
     "data": {
      "image/png": "[encoded data removed]",
      "text/plain": [
       "<Figure size 432x288 with 1 Axes>"
      ]
     },
     "metadata": {
      "needs_background": "light"
     },
     "output_type": "display_data"
    }
   ],
   "source": [
    "top_colleges = college_data[college_data.groupby('college').college.transform('count')>6]\n",
    "sns.boxplot(x=\"salary\", y=\"college\", data=top_colleges)\n",
    "plt.title(\"Salary Stats by Top Colleges\")\n",
    "plt.show()"
   ]
  },
  {
   "cell_type": "code",
   "execution_count": 179,
   "metadata": {},
   "outputs": [
    {
     "name": "stdout",
     "output_type": "stream",
     "text": [
      "Top 10 Team's AVG Salary\n"
     ]
    },
    {
     "data": {
      "text/html": [
       "<div>\n",
       "<style scoped>\n",
       "    .dataframe tbody tr th:only-of-type {\n",
       "        vertical-align: middle;\n",
       "    }\n",
       "\n",
       "    .dataframe tbody tr th {\n",
       "        vertical-align: top;\n",
       "    }\n",
       "\n",
       "    .dataframe thead th {\n",
       "        text-align: right;\n",
       "    }\n",
       "</style>\n",
       "<table border=\"1\" class=\"dataframe\">\n",
       "  <thead>\n",
       "    <tr style=\"text-align: right;\">\n",
       "      <th></th>\n",
       "      <th>salary</th>\n",
       "    </tr>\n",
       "    <tr>\n",
       "      <th>college</th>\n",
       "      <th></th>\n",
       "    </tr>\n",
       "  </thead>\n",
       "  <tbody>\n",
       "    <tr>\n",
       "      <th>University of California, Los Angeles</th>\n",
       "      <td>15814423.0</td>\n",
       "    </tr>\n",
       "    <tr>\n",
       "      <th>Wake Forest University</th>\n",
       "      <td>12022301.0</td>\n",
       "    </tr>\n",
       "    <tr>\n",
       "      <th>University of Kentucky</th>\n",
       "      <td>11793688.0</td>\n",
       "    </tr>\n",
       "    <tr>\n",
       "      <th>University of Texas at Austin</th>\n",
       "      <td>11355087.0</td>\n",
       "    </tr>\n",
       "    <tr>\n",
       "      <th>University of Kansas</th>\n",
       "      <td>10990861.0</td>\n",
       "    </tr>\n",
       "    <tr>\n",
       "      <th>Duke University</th>\n",
       "      <td>8579842.0</td>\n",
       "    </tr>\n",
       "    <tr>\n",
       "      <th>University of North Carolina</th>\n",
       "      <td>7671159.0</td>\n",
       "    </tr>\n",
       "    <tr>\n",
       "      <th>Villanova University</th>\n",
       "      <td>6792351.0</td>\n",
       "    </tr>\n",
       "  </tbody>\n",
       "</table>\n",
       "</div>"
      ],
      "text/plain": [
       "                                           salary\n",
       "college                                          \n",
       "University of California, Los Angeles  15814423.0\n",
       "Wake Forest University                 12022301.0\n",
       "University of Kentucky                 11793688.0\n",
       "University of Texas at Austin          11355087.0\n",
       "University of Kansas                   10990861.0\n",
       "Duke University                         8579842.0\n",
       "University of North Carolina            7671159.0\n",
       "Villanova University                    6792351.0"
      ]
     },
     "execution_count": 179,
     "metadata": {},
     "output_type": "execute_result"
    }
   ],
   "source": [
    "print(\"Top 10 Team's AVG Salary\")\n",
    "top_avg = top_colleges.groupby('college')['salary'].mean().round().to_frame()\n",
    "top_avg.sort_values(by='salary', ascending=False)"
   ]
  },
  {
   "cell_type": "code",
   "execution_count": 288,
   "metadata": {},
   "outputs": [
    {
     "data": {
      "text/html": [
       "<div>\n",
       "<style scoped>\n",
       "    .dataframe tbody tr th:only-of-type {\n",
       "        vertical-align: middle;\n",
       "    }\n",
       "\n",
       "    .dataframe tbody tr th {\n",
       "        vertical-align: top;\n",
       "    }\n",
       "\n",
       "    .dataframe thead th {\n",
       "        text-align: right;\n",
       "    }\n",
       "</style>\n",
       "<table border=\"1\" class=\"dataframe\">\n",
       "  <thead>\n",
       "    <tr style=\"text-align: right;\">\n",
       "      <th></th>\n",
       "      <th>Unnamed: 0</th>\n",
       "      <th>player</th>\n",
       "      <th>team</th>\n",
       "      <th>AGE</th>\n",
       "      <th>RANK</th>\n",
       "      <th>salary</th>\n",
       "      <th>college</th>\n",
       "      <th>height</th>\n",
       "      <th>position</th>\n",
       "      <th>weight</th>\n",
       "      <th>shoots</th>\n",
       "    </tr>\n",
       "  </thead>\n",
       "  <tbody>\n",
       "    <tr>\n",
       "      <th>7</th>\n",
       "      <td>97.0</td>\n",
       "      <td>Kyle Anderson</td>\n",
       "      <td>MEM</td>\n",
       "      <td>26.0</td>\n",
       "      <td>128.0</td>\n",
       "      <td>9505100.0</td>\n",
       "      <td>University of California, Los Angeles</td>\n",
       "      <td>6.9</td>\n",
       "      <td>Small Forward</td>\n",
       "      <td>230.0</td>\n",
       "      <td>Right</td>\n",
       "    </tr>\n",
       "    <tr>\n",
       "      <th>14</th>\n",
       "      <td>127.0</td>\n",
       "      <td>Trevor Ariza</td>\n",
       "      <td>POR</td>\n",
       "      <td>35.0</td>\n",
       "      <td>96.0</td>\n",
       "      <td>12800000.0</td>\n",
       "      <td>University of California, Los Angeles</td>\n",
       "      <td>6.8</td>\n",
       "      <td>Small Forward and Shooting Guard</td>\n",
       "      <td>215.0</td>\n",
       "      <td>Right</td>\n",
       "    </tr>\n",
       "    <tr>\n",
       "      <th>19</th>\n",
       "      <td>191.0</td>\n",
       "      <td>Lonzo Ball</td>\n",
       "      <td>NOP</td>\n",
       "      <td>22.0</td>\n",
       "      <td>111.0</td>\n",
       "      <td>11003782.0</td>\n",
       "      <td>University of California, Los Angeles</td>\n",
       "      <td>6.6</td>\n",
       "      <td>Point Guard</td>\n",
       "      <td>190.0</td>\n",
       "      <td>Right</td>\n",
       "    </tr>\n",
       "    <tr>\n",
       "      <th>144</th>\n",
       "      <td>1864.0</td>\n",
       "      <td>Aaron Holiday</td>\n",
       "      <td>IND</td>\n",
       "      <td>23.0</td>\n",
       "      <td>314.0</td>\n",
       "      <td>2345640.0</td>\n",
       "      <td>University of California, Los Angeles</td>\n",
       "      <td>6.1</td>\n",
       "      <td>Point Guard</td>\n",
       "      <td>185.0</td>\n",
       "      <td>Right</td>\n",
       "    </tr>\n",
       "    <tr>\n",
       "      <th>145</th>\n",
       "      <td>1865.0</td>\n",
       "      <td>Jrue Holiday</td>\n",
       "      <td>NOP</td>\n",
       "      <td>30.0</td>\n",
       "      <td>43.0</td>\n",
       "      <td>26131111.0</td>\n",
       "      <td>University of California, Los Angeles</td>\n",
       "      <td>6.4</td>\n",
       "      <td>Point Guard and Shooting Guard</td>\n",
       "      <td>205.0</td>\n",
       "      <td>Right</td>\n",
       "    </tr>\n",
       "  </tbody>\n",
       "</table>\n",
       "</div>"
      ],
      "text/plain": [
       "     Unnamed: 0         player team   AGE   RANK      salary  \\\n",
       "7          97.0  Kyle Anderson  MEM  26.0  128.0   9505100.0   \n",
       "14        127.0   Trevor Ariza  POR  35.0   96.0  12800000.0   \n",
       "19        191.0     Lonzo Ball  NOP  22.0  111.0  11003782.0   \n",
       "144      1864.0  Aaron Holiday  IND  23.0  314.0   2345640.0   \n",
       "145      1865.0   Jrue Holiday  NOP  30.0   43.0  26131111.0   \n",
       "\n",
       "                                   college  height  \\\n",
       "7    University of California, Los Angeles     6.9   \n",
       "14   University of California, Los Angeles     6.8   \n",
       "19   University of California, Los Angeles     6.6   \n",
       "144  University of California, Los Angeles     6.1   \n",
       "145  University of California, Los Angeles     6.4   \n",
       "\n",
       "                             position  weight shoots  \n",
       "7                       Small Forward   230.0  Right  \n",
       "14   Small Forward and Shooting Guard   215.0  Right  \n",
       "19                        Point Guard   190.0  Right  \n",
       "144                       Point Guard   185.0  Right  \n",
       "145    Point Guard and Shooting Guard   205.0  Right  "
      ]
     },
     "execution_count": 288,
     "metadata": {},
     "output_type": "execute_result"
    }
   ],
   "source": [
    "ucla = top_colleges.where(top_colleges['college']=='University of California, Los Angeles')\n",
    "ucla = ucla.dropna()\n",
    "ucla.head()"
   ]
  },
  {
   "cell_type": "code",
   "execution_count": 180,
   "metadata": {},
   "outputs": [
    {
     "name": "stdout",
     "output_type": "stream",
     "text": [
      "All Team's AVG Salary\n"
     ]
    },
    {
     "data": {
      "text/html": [
       "<div>\n",
       "<style scoped>\n",
       "    .dataframe tbody tr th:only-of-type {\n",
       "        vertical-align: middle;\n",
       "    }\n",
       "\n",
       "    .dataframe tbody tr th {\n",
       "        vertical-align: top;\n",
       "    }\n",
       "\n",
       "    .dataframe thead th {\n",
       "        text-align: right;\n",
       "    }\n",
       "</style>\n",
       "<table border=\"1\" class=\"dataframe\">\n",
       "  <thead>\n",
       "    <tr style=\"text-align: right;\">\n",
       "      <th></th>\n",
       "      <th>salary</th>\n",
       "    </tr>\n",
       "    <tr>\n",
       "      <th>college</th>\n",
       "      <th></th>\n",
       "    </tr>\n",
       "  </thead>\n",
       "  <tbody>\n",
       "    <tr>\n",
       "      <th>University of Oklahoma</th>\n",
       "      <td>24593525.0</td>\n",
       "    </tr>\n",
       "    <tr>\n",
       "      <th>University of Connecticut</th>\n",
       "      <td>23594344.0</td>\n",
       "    </tr>\n",
       "    <tr>\n",
       "      <th>University of California, Los Angeles</th>\n",
       "      <td>15814423.0</td>\n",
       "    </tr>\n",
       "    <tr>\n",
       "      <th>Marquette University</th>\n",
       "      <td>15753367.0</td>\n",
       "    </tr>\n",
       "    <tr>\n",
       "      <th>Texas A&amp;M University</th>\n",
       "      <td>15392467.0</td>\n",
       "    </tr>\n",
       "    <tr>\n",
       "      <th>University of Virginia</th>\n",
       "      <td>13925593.0</td>\n",
       "    </tr>\n",
       "    <tr>\n",
       "      <th>University of Florida</th>\n",
       "      <td>13849639.0</td>\n",
       "    </tr>\n",
       "    <tr>\n",
       "      <th>University of Louisville</th>\n",
       "      <td>13705775.0</td>\n",
       "    </tr>\n",
       "    <tr>\n",
       "      <th>Wake Forest University</th>\n",
       "      <td>12022301.0</td>\n",
       "    </tr>\n",
       "    <tr>\n",
       "      <th>Louisiana State University</th>\n",
       "      <td>11879188.0</td>\n",
       "    </tr>\n",
       "  </tbody>\n",
       "</table>\n",
       "</div>"
      ],
      "text/plain": [
       "                                           salary\n",
       "college                                          \n",
       "University of Oklahoma                 24593525.0\n",
       "University of Connecticut              23594344.0\n",
       "University of California, Los Angeles  15814423.0\n",
       "Marquette University                   15753367.0\n",
       "Texas A&M University                   15392467.0\n",
       "University of Virginia                 13925593.0\n",
       "University of Florida                  13849639.0\n",
       "University of Louisville               13705775.0\n",
       "Wake Forest University                 12022301.0\n",
       "Louisiana State University             11879188.0"
      ]
     },
     "execution_count": 180,
     "metadata": {},
     "output_type": "execute_result"
    }
   ],
   "source": [
    "print(\"All Team's AVG Salary\")\n",
    "col_avg = college_data.groupby('college')['salary'].mean().round().to_frame()\n",
    "col_avg.sort_values(by='salary', ascending=False).head(10)"
   ]
  },
  {
   "cell_type": "markdown",
   "metadata": {},
   "source": [
    "### WNBA Salary Data\n",
    "We will now analyze some of the salaries and corresponding data from the Women's National Basketball Association (WNBA)."
   ]
  },
  {
   "cell_type": "markdown",
   "metadata": {},
   "source": [
    "### Women Statistics by Team"
   ]
  },
  {
   "cell_type": "code",
   "execution_count": 145,
   "metadata": {},
   "outputs": [
    {
     "data": {
      "text/html": [
       "<div>\n",
       "<style scoped>\n",
       "    .dataframe tbody tr th:only-of-type {\n",
       "        vertical-align: middle;\n",
       "    }\n",
       "\n",
       "    .dataframe tbody tr th {\n",
       "        vertical-align: top;\n",
       "    }\n",
       "\n",
       "    .dataframe thead th {\n",
       "        text-align: right;\n",
       "    }\n",
       "</style>\n",
       "<table border=\"1\" class=\"dataframe\">\n",
       "  <thead>\n",
       "    <tr style=\"text-align: right;\">\n",
       "      <th></th>\n",
       "      <th>Unnamed: 0</th>\n",
       "      <th>player</th>\n",
       "      <th>position</th>\n",
       "      <th>age</th>\n",
       "      <th>salary</th>\n",
       "      <th>team</th>\n",
       "    </tr>\n",
       "  </thead>\n",
       "  <tbody>\n",
       "    <tr>\n",
       "      <th>0</th>\n",
       "      <td>0</td>\n",
       "      <td>DeWanna Bonner</td>\n",
       "      <td>F</td>\n",
       "      <td>33.0</td>\n",
       "      <td>221450.0</td>\n",
       "      <td>CON</td>\n",
       "    </tr>\n",
       "    <tr>\n",
       "      <th>1</th>\n",
       "      <td>1</td>\n",
       "      <td>Skylar Diggins-Smith</td>\n",
       "      <td>G</td>\n",
       "      <td>30.0</td>\n",
       "      <td>221450.0</td>\n",
       "      <td>PHX</td>\n",
       "    </tr>\n",
       "    <tr>\n",
       "      <th>2</th>\n",
       "      <td>2</td>\n",
       "      <td>Brittney Griner</td>\n",
       "      <td>C</td>\n",
       "      <td>30.0</td>\n",
       "      <td>221450.0</td>\n",
       "      <td>PHX</td>\n",
       "    </tr>\n",
       "    <tr>\n",
       "      <th>3</th>\n",
       "      <td>3</td>\n",
       "      <td>Diana Taurasi</td>\n",
       "      <td>G</td>\n",
       "      <td>38.0</td>\n",
       "      <td>221450.0</td>\n",
       "      <td>PHX</td>\n",
       "    </tr>\n",
       "    <tr>\n",
       "      <th>4</th>\n",
       "      <td>4</td>\n",
       "      <td>Sue Bird</td>\n",
       "      <td>G</td>\n",
       "      <td>40.0</td>\n",
       "      <td>221450.0</td>\n",
       "      <td>SEA</td>\n",
       "    </tr>\n",
       "  </tbody>\n",
       "</table>\n",
       "</div>"
      ],
      "text/plain": [
       "   Unnamed: 0                player position   age    salary team\n",
       "0           0        DeWanna Bonner        F  33.0  221450.0  CON\n",
       "1           1  Skylar Diggins-Smith        G  30.0  221450.0  PHX\n",
       "2           2       Brittney Griner        C  30.0  221450.0  PHX\n",
       "3           3         Diana Taurasi        G  38.0  221450.0  PHX\n",
       "4           4              Sue Bird        G  40.0  221450.0  SEA"
      ]
     },
     "execution_count": 145,
     "metadata": {},
     "output_type": "execute_result"
    }
   ],
   "source": [
    "clean_data = pd.read_csv(\"wnba_data.csv\")\n",
    "clean_data.head()"
   ]
  },
  {
   "cell_type": "code",
   "execution_count": 152,
   "metadata": {},
   "outputs": [
    {
     "data": {
      "text/plain": [
       "count       187.0\n",
       "mean      97852.5\n",
       "std       52866.8\n",
       "min       58170.0\n",
       "25%       58710.0\n",
       "50%       70040.0\n",
       "75%      124750.0\n",
       "max      221450.0\n",
       "Name: salary, dtype: float64"
      ]
     },
     "execution_count": 152,
     "metadata": {},
     "output_type": "execute_result"
    }
   ],
   "source": [
    "clean_data['salary'].describe().round(1)"
   ]
  },
  {
   "cell_type": "code",
   "execution_count": 146,
   "metadata": {},
   "outputs": [
    {
     "name": "stdout",
     "output_type": "stream",
     "text": [
      "Mean age and salary by team\n"
     ]
    },
    {
     "data": {
      "text/html": [
       "<div>\n",
       "<style scoped>\n",
       "    .dataframe tbody tr th:only-of-type {\n",
       "        vertical-align: middle;\n",
       "    }\n",
       "\n",
       "    .dataframe tbody tr th {\n",
       "        vertical-align: top;\n",
       "    }\n",
       "\n",
       "    .dataframe thead th {\n",
       "        text-align: right;\n",
       "    }\n",
       "</style>\n",
       "<table border=\"1\" class=\"dataframe\">\n",
       "  <thead>\n",
       "    <tr style=\"text-align: right;\">\n",
       "      <th></th>\n",
       "      <th>Unnamed: 0</th>\n",
       "      <th>age</th>\n",
       "      <th>salary</th>\n",
       "    </tr>\n",
       "    <tr>\n",
       "      <th>team</th>\n",
       "      <th></th>\n",
       "      <th></th>\n",
       "      <th></th>\n",
       "    </tr>\n",
       "  </thead>\n",
       "  <tbody>\n",
       "    <tr>\n",
       "      <th>ATL</th>\n",
       "      <td>85.0</td>\n",
       "      <td>26.0</td>\n",
       "      <td>102244.0</td>\n",
       "    </tr>\n",
       "    <tr>\n",
       "      <th>CHI</th>\n",
       "      <td>83.0</td>\n",
       "      <td>26.0</td>\n",
       "      <td>99114.0</td>\n",
       "    </tr>\n",
       "    <tr>\n",
       "      <th>CON</th>\n",
       "      <td>92.0</td>\n",
       "      <td>26.0</td>\n",
       "      <td>108047.0</td>\n",
       "    </tr>\n",
       "    <tr>\n",
       "      <th>DAL</th>\n",
       "      <td>96.0</td>\n",
       "      <td>24.0</td>\n",
       "      <td>86055.0</td>\n",
       "    </tr>\n",
       "    <tr>\n",
       "      <th>IND</th>\n",
       "      <td>100.0</td>\n",
       "      <td>25.0</td>\n",
       "      <td>87804.0</td>\n",
       "    </tr>\n",
       "    <tr>\n",
       "      <th>LA</th>\n",
       "      <td>87.0</td>\n",
       "      <td>27.0</td>\n",
       "      <td>98941.0</td>\n",
       "    </tr>\n",
       "    <tr>\n",
       "      <th>LV</th>\n",
       "      <td>93.0</td>\n",
       "      <td>25.0</td>\n",
       "      <td>111266.0</td>\n",
       "    </tr>\n",
       "    <tr>\n",
       "      <th>MIN</th>\n",
       "      <td>95.0</td>\n",
       "      <td>24.0</td>\n",
       "      <td>97824.0</td>\n",
       "    </tr>\n",
       "    <tr>\n",
       "      <th>NY</th>\n",
       "      <td>92.0</td>\n",
       "      <td>25.0</td>\n",
       "      <td>90235.0</td>\n",
       "    </tr>\n",
       "    <tr>\n",
       "      <th>PHX</th>\n",
       "      <td>96.0</td>\n",
       "      <td>26.0</td>\n",
       "      <td>107833.0</td>\n",
       "    </tr>\n",
       "    <tr>\n",
       "      <th>SEA</th>\n",
       "      <td>98.0</td>\n",
       "      <td>26.0</td>\n",
       "      <td>90039.0</td>\n",
       "    </tr>\n",
       "    <tr>\n",
       "      <th>WAS</th>\n",
       "      <td>101.0</td>\n",
       "      <td>27.0</td>\n",
       "      <td>101750.0</td>\n",
       "    </tr>\n",
       "  </tbody>\n",
       "</table>\n",
       "</div>"
      ],
      "text/plain": [
       "      Unnamed: 0   age    salary\n",
       "team                            \n",
       "ATL         85.0  26.0  102244.0\n",
       "CHI         83.0  26.0   99114.0\n",
       "CON         92.0  26.0  108047.0\n",
       "DAL         96.0  24.0   86055.0\n",
       "IND        100.0  25.0   87804.0\n",
       "LA          87.0  27.0   98941.0\n",
       "LV          93.0  25.0  111266.0\n",
       "MIN         95.0  24.0   97824.0\n",
       "NY          92.0  25.0   90235.0\n",
       "PHX         96.0  26.0  107833.0\n",
       "SEA         98.0  26.0   90039.0\n",
       "WAS        101.0  27.0  101750.0"
      ]
     },
     "execution_count": 146,
     "metadata": {},
     "output_type": "execute_result"
    }
   ],
   "source": [
    "print(\"Mean age and salary by team\")\n",
    "clean_data.groupby(['team']).mean(['age','salary']).round()"
   ]
  },
  {
   "cell_type": "code",
   "execution_count": 293,
   "metadata": {},
   "outputs": [
    {
     "data": {
      "text/plain": [
       "count        12.0\n",
       "mean      98429.0\n",
       "std        8399.0\n",
       "min       86055.0\n",
       "25%       90186.0\n",
       "50%       99028.0\n",
       "75%      103641.0\n",
       "max      111266.0\n",
       "Name: salary, dtype: float64"
      ]
     },
     "execution_count": 293,
     "metadata": {},
     "output_type": "execute_result"
    }
   ],
   "source": [
    "clean_data.groupby('team')['salary'].mean().describe().round()"
   ]
  },
  {
   "cell_type": "code",
   "execution_count": 147,
   "metadata": {},
   "outputs": [
    {
     "data": {
      "image/png": "[encoded data removed]",
      "text/plain": [
       "<Figure size 432x288 with 1 Axes>"
      ]
     },
     "metadata": {
      "needs_background": "light"
     },
     "output_type": "display_data"
    }
   ],
   "source": [
    "sns.boxplot(x=\"salary\",y=\"team\", data=clean_data)\n",
    "plt.title(\"Salary by Team\")\n",
    "plt.show()"
   ]
  },
  {
   "cell_type": "code",
   "execution_count": 148,
   "metadata": {},
   "outputs": [
    {
     "data": {
      "image/png": "[encoded data removed]",
      "text/plain": [
       "<Figure size 432x288 with 1 Axes>"
      ]
     },
     "metadata": {
      "needs_background": "light"
     },
     "output_type": "display_data"
    },
    {
     "name": "stdout",
     "output_type": "stream",
     "text": [
      "Regression slope of salary: -0.0002\n"
     ]
    }
   ],
   "source": [
    "team_avg = clean_data.groupby(['team']).mean(['salary']).round()\n",
    "team_avg['ranking']= [10,7,6,9,11,3,1,4,12,5,2,8]\n",
    "\n",
    "#sns.relplot(x=\"salary\", y=\"ranking\", hue=\"team\", data=team_avg)\n",
    "sns.regplot(x=\"salary\", y=\"ranking\", data=team_avg)\n",
    "plt.xlabel('Salary')\n",
    "plt.ylabel('Ranking')\n",
    "plt.title('WNBA Team Mean Salaries by League Ranking')\n",
    "plt.show()\n",
    "\n",
    "regressor = lr() \n",
    "regressor.fit(team_avg[['salary']],team_avg['ranking']) \n",
    "m= regressor.coef_[0]\n",
    "b= regressor.intercept_\n",
    "print('Regression slope of salary: {: .1}'.format(m))"
   ]
  },
  {
   "cell_type": "code",
   "execution_count": 115,
   "metadata": {},
   "outputs": [
    {
     "name": "stdout",
     "output_type": "stream",
     "text": [
      "Mean age and salary by postion\n"
     ]
    },
    {
     "data": {
      "text/html": [
       "<div>\n",
       "<style scoped>\n",
       "    .dataframe tbody tr th:only-of-type {\n",
       "        vertical-align: middle;\n",
       "    }\n",
       "\n",
       "    .dataframe tbody tr th {\n",
       "        vertical-align: top;\n",
       "    }\n",
       "\n",
       "    .dataframe thead th {\n",
       "        text-align: right;\n",
       "    }\n",
       "</style>\n",
       "<table border=\"1\" class=\"dataframe\">\n",
       "  <thead>\n",
       "    <tr style=\"text-align: right;\">\n",
       "      <th></th>\n",
       "      <th>age</th>\n",
       "      <th>salary</th>\n",
       "    </tr>\n",
       "    <tr>\n",
       "      <th>position</th>\n",
       "      <th></th>\n",
       "      <th></th>\n",
       "    </tr>\n",
       "  </thead>\n",
       "  <tbody>\n",
       "    <tr>\n",
       "      <th>C</th>\n",
       "      <td>23.548387</td>\n",
       "      <td>93625.774194</td>\n",
       "    </tr>\n",
       "    <tr>\n",
       "      <th>F</th>\n",
       "      <td>24.250000</td>\n",
       "      <td>93024.887500</td>\n",
       "    </tr>\n",
       "    <tr>\n",
       "      <th>G</th>\n",
       "      <td>24.870370</td>\n",
       "      <td>91165.851852</td>\n",
       "    </tr>\n",
       "    <tr>\n",
       "      <th>PF</th>\n",
       "      <td>19.000000</td>\n",
       "      <td>70040.000000</td>\n",
       "    </tr>\n",
       "    <tr>\n",
       "      <th>PG</th>\n",
       "      <td>24.000000</td>\n",
       "      <td>58710.000000</td>\n",
       "    </tr>\n",
       "  </tbody>\n",
       "</table>\n",
       "</div>"
      ],
      "text/plain": [
       "                age        salary\n",
       "position                         \n",
       "C         23.548387  93625.774194\n",
       "F         24.250000  93024.887500\n",
       "G         24.870370  91165.851852\n",
       "PF        19.000000  70040.000000\n",
       "PG        24.000000  58710.000000"
      ]
     },
     "execution_count": 115,
     "metadata": {},
     "output_type": "execute_result"
    }
   ],
   "source": [
    "print(\"Mean age and salary by postion\")\n",
    "clean_data.groupby(['position']).mean(['age','salary'])"
   ]
  },
  {
   "cell_type": "code",
   "execution_count": 153,
   "metadata": {},
   "outputs": [
    {
     "data": {
      "image/png": "[encoded data removed]",
      "text/plain": [
       "<Figure size 432x288 with 1 Axes>"
      ]
     },
     "metadata": {
      "needs_background": "light"
     },
     "output_type": "display_data"
    }
   ],
   "source": [
    "sns.boxplot(x=\"salary\",y=\"position\", data=clean_data)\n",
    "plt.title(\"Salary by Position\")\n",
    "plt.show()"
   ]
  },
  {
   "cell_type": "code",
   "execution_count": 156,
   "metadata": {},
   "outputs": [
    {
     "data": {
      "image/png": "[encoded data removed]",
      "text/plain": [
       "<Figure size 432x288 with 1 Axes>"
      ]
     },
     "metadata": {
      "needs_background": "light"
     },
     "output_type": "display_data"
    }
   ],
   "source": [
    "age_data = clean_data[clean_data['age'].between(16,80)]\n",
    "sns.regplot(x=\"salary\", y=\"age\", data=age_data)\n",
    "plt.xlabel('Salary')\n",
    "plt.ylabel('Age')\n",
    "plt.title('WNBA Salaries by Age')\n",
    "plt.show()"
   ]
  },
  {
   "cell_type": "markdown",
   "metadata": {},
   "source": [
    "## Evaluation of Significance:\n",
    "___"
   ]
  },
  {
   "cell_type": "code",
   "execution_count": 211,
   "metadata": {},
   "outputs": [],
   "source": [
    "from sklearn.linear_model import LinearRegression\n",
    "from sklearn.linear_model import LogisticRegression\n",
    "from sklearn.model_selection import train_test_split\n",
    "import matplotlib.pyplot as plt\n",
    "import warnings\n",
    "from pylab import rcParams\n",
    "from scipy.stats import f_oneway\n",
    "from scipy.stats import ttest_ind"
   ]
  },
  {
   "cell_type": "markdown",
   "metadata": {},
   "source": [
    "### T-Test for NBA and WNBA Disparity "
   ]
  },
  {
   "cell_type": "code",
   "execution_count": 215,
   "metadata": {},
   "outputs": [],
   "source": [
    "def plot_distribution(inp):\n",
    "    plt.figure()\n",
    "    ax = sns.distplot(inp)\n",
    "    plt.axvline(np.mean(inp), color=\"k\", linestyle=\"dashed\", linewidth=5)\n",
    "    _, max_ = plt.ylim()\n",
    "    plt.text(\n",
    "        inp.mean() + inp.mean() / 10,\n",
    "        max_ - max_ / 10,\n",
    "        \"Mean: {:.2f}\".format(inp.mean()),\n",
    "    )\n",
    "    return plt.figure\n",
    "warnings.filterwarnings(\"ignore\")"
   ]
  },
  {
   "cell_type": "code",
   "execution_count": 217,
   "metadata": {},
   "outputs": [
    {
     "name": "stdout",
     "output_type": "stream",
     "text": [
      "NBA Salary Distribution\n"
     ]
    },
    {
     "data": {
      "text/plain": [
       "<function matplotlib.pyplot.figure(num=None, figsize=None, dpi=None, facecolor=None, edgecolor=None, frameon=True, FigureClass=<class 'matplotlib.figure.Figure'>, clear=False, **kwargs)>"
      ]
     },
     "execution_count": 217,
     "metadata": {},
     "output_type": "execute_result"
    },
    {
     "data": {
      "image/png": "[encoded data removed]",
      "text/plain": [
       "<Figure size 432x288 with 1 Axes>"
      ]
     },
     "metadata": {},
     "output_type": "display_data"
    }
   ],
   "source": [
    "print(\"NBA Salary Distribution\")\n",
    "plot_distribution(player_metrics['salary'])"
   ]
  },
  {
   "cell_type": "code",
   "execution_count": 218,
   "metadata": {},
   "outputs": [
    {
     "name": "stdout",
     "output_type": "stream",
     "text": [
      "WNBA Salary Distribution\n"
     ]
    },
    {
     "data": {
      "text/plain": [
       "<function matplotlib.pyplot.figure(num=None, figsize=None, dpi=None, facecolor=None, edgecolor=None, frameon=True, FigureClass=<class 'matplotlib.figure.Figure'>, clear=False, **kwargs)>"
      ]
     },
     "execution_count": 218,
     "metadata": {},
     "output_type": "execute_result"
    },
    {
     "data": {
      "image/png": "[encoded data removed]",
      "text/plain": [
       "<Figure size 432x288 with 1 Axes>"
      ]
     },
     "metadata": {},
     "output_type": "display_data"
    }
   ],
   "source": [
    "print(\"WNBA Salary Distribution\")\n",
    "plot_distribution(clean_data['salary'])"
   ]
  },
  {
   "cell_type": "code",
   "execution_count": 226,
   "metadata": {},
   "outputs": [],
   "source": [
    "def compare_sal(arr1, arr2, alpha, sample_size):\n",
    "    stat, p = ttest_ind(arr1, arr2)\n",
    "    print('Statistics=%.3f, p=%.3f' % (stat, p))\n",
    "    if p > alpha:\n",
    "        print('Same distributions (fail to reject H0)')\n",
    "    else:\n",
    "        print('Different distributions (reject H0)')"
   ]
  },
  {
   "cell_type": "code",
   "execution_count": 228,
   "metadata": {},
   "outputs": [
    {
     "name": "stdout",
     "output_type": "stream",
     "text": [
      "Statistics=3.404, p=0.002\n",
      "Different distributions (reject H0)\n"
     ]
    }
   ],
   "source": [
    "s_size = 20\n",
    "nba_sample = np.random.choice(player_metrics['salary'], s_size)\n",
    "wnba_sample = np.random.choice(clean_data['salary'], s_size)\n",
    "compare_sal(nba_sample, wnba_sample, 0.05, s_size)"
   ]
  },
  {
   "cell_type": "markdown",
   "metadata": {},
   "source": [
    "### T-Test for NBA Race Disparity"
   ]
  },
  {
   "cell_type": "code",
   "execution_count": 221,
   "metadata": {},
   "outputs": [
    {
     "data": {
      "text/html": [
       "<div>\n",
       "<style scoped>\n",
       "    .dataframe tbody tr th:only-of-type {\n",
       "        vertical-align: middle;\n",
       "    }\n",
       "\n",
       "    .dataframe tbody tr th {\n",
       "        vertical-align: top;\n",
       "    }\n",
       "\n",
       "    .dataframe thead th {\n",
       "        text-align: right;\n",
       "    }\n",
       "</style>\n",
       "<table border=\"1\" class=\"dataframe\">\n",
       "  <thead>\n",
       "    <tr style=\"text-align: right;\">\n",
       "      <th></th>\n",
       "      <th>salary</th>\n",
       "      <th>RANK</th>\n",
       "    </tr>\n",
       "    <tr>\n",
       "      <th>race</th>\n",
       "      <th></th>\n",
       "      <th></th>\n",
       "    </tr>\n",
       "  </thead>\n",
       "  <tbody>\n",
       "    <tr>\n",
       "      <th>black</th>\n",
       "      <td>11414366.0</td>\n",
       "      <td>182.0</td>\n",
       "    </tr>\n",
       "    <tr>\n",
       "      <th>hispanic</th>\n",
       "      <td>7300000.0</td>\n",
       "      <td>163.0</td>\n",
       "    </tr>\n",
       "    <tr>\n",
       "      <th>white</th>\n",
       "      <td>7992017.0</td>\n",
       "      <td>198.0</td>\n",
       "    </tr>\n",
       "  </tbody>\n",
       "</table>\n",
       "</div>"
      ],
      "text/plain": [
       "              salary   RANK\n",
       "race                       \n",
       "black     11414366.0  182.0\n",
       "hispanic   7300000.0  163.0\n",
       "white      7992017.0  198.0"
      ]
     },
     "execution_count": 221,
     "metadata": {},
     "output_type": "execute_result"
    }
   ],
   "source": [
    "nba_race = pd.read_csv(\"nba_race.csv\")\n",
    "nba_race.groupby('race')[['salary','RANK']].mean().round()"
   ]
  },
  {
   "cell_type": "code",
   "execution_count": 223,
   "metadata": {},
   "outputs": [
    {
     "name": "stdout",
     "output_type": "stream",
     "text": [
      "NBA: Black/African-American Salary Distribution\n"
     ]
    },
    {
     "data": {
      "text/plain": [
       "<function matplotlib.pyplot.figure(num=None, figsize=None, dpi=None, facecolor=None, edgecolor=None, frameon=True, FigureClass=<class 'matplotlib.figure.Figure'>, clear=False, **kwargs)>"
      ]
     },
     "execution_count": 223,
     "metadata": {},
     "output_type": "execute_result"
    },
    {
     "data": {
      "image/png": "[encoded data removed]",
      "text/plain": [
       "<Figure size 432x288 with 1 Axes>"
      ]
     },
     "metadata": {},
     "output_type": "display_data"
    }
   ],
   "source": [
    "print(\"NBA: Black/African-American Salary Distribution\")\n",
    "plot_distribution(nba_race['salary'].where(nba_race['race']=='black'))"
   ]
  },
  {
   "cell_type": "code",
   "execution_count": 224,
   "metadata": {},
   "outputs": [
    {
     "name": "stdout",
     "output_type": "stream",
     "text": [
      "NBA: White Salary Distribution\n"
     ]
    },
    {
     "data": {
      "text/plain": [
       "<function matplotlib.pyplot.figure(num=None, figsize=None, dpi=None, facecolor=None, edgecolor=None, frameon=True, FigureClass=<class 'matplotlib.figure.Figure'>, clear=False, **kwargs)>"
      ]
     },
     "execution_count": 224,
     "metadata": {},
     "output_type": "execute_result"
    },
    {
     "data": {
      "image/png": "[encoded data removed]",
      "text/plain": [
       "<Figure size 432x288 with 1 Axes>"
      ]
     },
     "metadata": {},
     "output_type": "display_data"
    }
   ],
   "source": [
    "print(\"NBA: White Salary Distribution\")\n",
    "plot_distribution(nba_race['salary'].where(nba_race['race']=='white'))"
   ]
  },
  {
   "cell_type": "code",
   "execution_count": 259,
   "metadata": {},
   "outputs": [
    {
     "name": "stdout",
     "output_type": "stream",
     "text": [
      "Statistics=1.591, p=0.129\n",
      "Same distributions (fail to reject H0)\n"
     ]
    }
   ],
   "source": [
    "nba_b = nba_race['salary'].where(nba_race['race']== \"black\")\n",
    "nba_b = nba_b.dropna()\n",
    "nba_w = nba_race['salary'].where(nba_race['race']== \"white\")\n",
    "nba_w = nba_w.dropna()\n",
    "\n",
    "s_size = 10\n",
    "black_sample = np.random.choice(nba_b, s_size)\n",
    "white_sample = np.random.choice(nba_w, s_size)\n",
    "compare_sal(black_sample, white_sample, 0.05, s_size)"
   ]
  },
  {
   "cell_type": "code",
   "execution_count": 268,
   "metadata": {},
   "outputs": [
    {
     "data": {
      "image/png": "[encoded data removed]",
      "text/plain": [
       "<Figure size 432x288 with 1 Axes>"
      ]
     },
     "metadata": {},
     "output_type": "display_data"
    }
   ],
   "source": [
    "plt.figure()\n",
    "ax1 = sns.distplot(nba_b)\n",
    "ax2 = sns.distplot(nba_w)\n",
    "plt.axvline(np.mean(nba_b), color='b', label=\"Black\")\n",
    "plt.axvline(np.mean(nba_w), color='orange', label=\"White\")\n",
    "plt.title(\"Salary Distribution\")\n",
    "plt.xlabel(\"Salary\")\n",
    "plt.legend(loc='upper right')\n",
    "plt.show()"
   ]
  },
  {
   "cell_type": "code",
   "execution_count": 260,
   "metadata": {},
   "outputs": [],
   "source": [
    "rank_b = nba_race['RANK'].where(nba_race['race']== \"black\")\n",
    "rank_b = nba_b.dropna()\n",
    "rank_w = nba_race['RANK'].where(nba_race['race']== \"white\")\n",
    "rank_w = nba_w.dropna()"
   ]
  },
  {
   "cell_type": "code",
   "execution_count": 267,
   "metadata": {},
   "outputs": [
    {
     "data": {
      "image/png": "[encoded data removed]",
      "text/plain": [
       "<Figure size 432x288 with 1 Axes>"
      ]
     },
     "metadata": {},
     "output_type": "display_data"
    }
   ],
   "source": [
    "plt.figure()\n",
    "ax1 = sns.distplot(rank_b)\n",
    "ax2 = sns.distplot(rank_w)\n",
    "plt.axvline(np.mean(rank_b), color='b', label=\"Black\")\n",
    "plt.axvline(np.mean(rank_w), color='orange', label=\"White\")\n",
    "plt.title(\"Ranking Distribution\")\n",
    "plt.xlabel(\"Ranking\")\n",
    "plt.legend(loc='upper right')\n",
    "plt.show()"
   ]
  },
  {
   "cell_type": "code",
   "execution_count": 261,
   "metadata": {},
   "outputs": [
    {
     "name": "stdout",
     "output_type": "stream",
     "text": [
      "Statistics=0.807, p=0.430\n",
      "Same distributions (fail to reject H0)\n"
     ]
    }
   ],
   "source": [
    "s_size = 10\n",
    "black_sample2 = np.random.choice(rank_b, s_size)\n",
    "white_sample2 = np.random.choice(rank_w, s_size)\n",
    "compare_sal(black_sample2, white_sample2, 0.05, s_size)"
   ]
  },
  {
   "cell_type": "markdown",
   "metadata": {},
   "source": [
    "### NBA Salary Predictions\n",
    "Some of the performance metrics appear to have very strong correlations with each NBA players salaries. "
   ]
  },
  {
   "cell_type": "code",
   "execution_count": 295,
   "metadata": {},
   "outputs": [
    {
     "data": {
      "image/png": "[encoded data removed]",
      "text/plain": [
       "<Figure size 432x288 with 1 Axes>"
      ]
     },
     "metadata": {},
     "output_type": "display_data"
    },
    {
     "name": "stdout",
     "output_type": "stream",
     "text": [
      "The regression slope of the PTS variable is 1088149.75\n",
      "\n"
     ]
    },
    {
     "data": {
      "image/png": "[encoded data removed]",
      "text/plain": [
       "<Figure size 432x288 with 1 Axes>"
      ]
     },
     "metadata": {},
     "output_type": "display_data"
    },
    {
     "name": "stdout",
     "output_type": "stream",
     "text": [
      "The regression slope of the PLUS_MINUS variable is 780562.64\n",
      "\n"
     ]
    },
    {
     "data": {
      "image/png": "[encoded data removed]",
      "text/plain": [
       "<Figure size 432x288 with 1 Axes>"
      ]
     },
     "metadata": {},
     "output_type": "display_data"
    },
    {
     "name": "stdout",
     "output_type": "stream",
     "text": [
      "The regression slope of the FT_PCT variable is 12789058.45\n",
      "\n"
     ]
    },
    {
     "data": {
      "image/png": "[encoded data removed]",
      "text/plain": [
       "<Figure size 432x288 with 1 Axes>"
      ]
     },
     "metadata": {},
     "output_type": "display_data"
    },
    {
     "name": "stdout",
     "output_type": "stream",
     "text": [
      "The regression slope of the AST variable is 3124072.35\n",
      "\n"
     ]
    }
   ],
   "source": [
    "sns.regplot(data = player_metrics, x= \"PTS\", y = \"salary\")\n",
    "plt.title(\"Salary by AVG Points per Game\")\n",
    "plt.show()\n",
    "#player_metrics = player_metrics.dropna()\n",
    "linear_reg = LinearRegression().fit(player_metrics[[\"PTS\"]], player_metrics[\"salary\"])\n",
    "x=linear_reg.coef_[0].round(2)\n",
    "print(\"The regression slope of the PTS variable is {:.2f}\".format(x))\n",
    "print(\"\")\n",
    "\n",
    "sns.regplot(data = player_metrics, x= \"PLUS_MINUS\", y = \"salary\")\n",
    "plt.title(\"Salary by Plus Minus\")\n",
    "plt.show()\n",
    "#player_metrics = player_metrics.dropna()\n",
    "linear_reg = LinearRegression().fit(player_metrics[[\"PLUS_MINUS\"]], player_metrics[\"salary\"])\n",
    "x=linear_reg.coef_[0].round(2)\n",
    "print(\"The regression slope of the PLUS_MINUS variable is {:.2f}\".format(x))\n",
    "print(\"\")\n",
    "\n",
    "sns.regplot(data = player_metrics, x= \"FT_PCT\", y = \"salary\")\n",
    "plt.title(\"Salary by Free Throw Percentage\")\n",
    "plt.show()\n",
    "#player_metrics = player_metrics.dropna()\n",
    "linear_reg = LinearRegression().fit(player_metrics[[\"FT_PCT\"]], player_metrics[\"salary\"])\n",
    "x=linear_reg.coef_[0].round(2)\n",
    "print(\"The regression slope of the FT_PCT variable is {:.2f}\".format(x))\n",
    "print(\"\")\n",
    "\n",
    "sns.regplot(data = player_metrics, x= \"AST\", y = \"salary\")\n",
    "plt.title(\"Salary by Assists\")\n",
    "plt.show()\n",
    "#player_metrics = player_metrics.dropna()\n",
    "linear_reg = LinearRegression().fit(player_metrics[[\"AST\"]], player_metrics[\"salary\"])\n",
    "x=linear_reg.coef_[0].round(2)\n",
    "print(\"The regression slope of the AST variable is {:.2f}\".format(x))\n",
    "print(\"\")"
   ]
  },
  {
   "cell_type": "markdown",
   "metadata": {},
   "source": [
    "First we are going to see the non-performance factors that have the largest influence on salary."
   ]
  },
  {
   "cell_type": "code",
   "execution_count": 163,
   "metadata": {},
   "outputs": [
    {
     "name": "stdout",
     "output_type": "stream",
     "text": [
      "Predictor Variable:  AGE\n",
      "Estimated slope:  574384.09\n",
      "Correlation:  0.051\n",
      "\n",
      "Predictor Variable:  RANK\n",
      "Estimated slope:  -52943.84\n",
      "Correlation:  0.56\n",
      "\n",
      "Predictor Variable:  height\n",
      "Estimated slope:  -2847987.97\n",
      "Correlation:  0.0085\n",
      "\n",
      "Predictor Variable:  weight\n",
      "Estimated slope:  36903.25\n",
      "Correlation:  0.0082\n",
      "\n"
     ]
    }
   ],
   "source": [
    "for column in ['AGE','RANK','height','weight']:\n",
    "    regressor = lr() \n",
    "    regressor.fit(nba_background[[column]],nba_background['salary']) \n",
    "    m= regressor.coef_[0]\n",
    "    print('Predictor Variable: ',column)\n",
    "    print('Estimated slope: ', round(m,2))\n",
    "    print(\"Correlation: {: .2}\".format(regressor.score(nba_background[[column]],nba_background['salary'])))\n",
    "    print(\"\")"
   ]
  },
  {
   "cell_type": "markdown",
   "metadata": {},
   "source": [
    "We will then determine the top performance metrics that have the strongest correlation with salary. "
   ]
  },
  {
   "cell_type": "code",
   "execution_count": 164,
   "metadata": {},
   "outputs": [
    {
     "name": "stdout",
     "output_type": "stream",
     "text": [
      "Predictor Variable:  MIN\n",
      "Estimated slope:  717637.65\n",
      "Correlation:  0.41\n",
      "\n",
      "Predictor Variable:  GP\n",
      "Estimated slope:  113268.29\n",
      "Correlation:  0.053\n",
      "\n",
      "Predictor Variable:  PTS\n",
      "Estimated slope:  1088149.75\n",
      "Correlation:  0.54\n",
      "\n",
      "Predictor Variable:  REB\n",
      "Estimated slope:  1850143.22\n",
      "Correlation:  0.24\n",
      "\n",
      "Predictor Variable:  AST\n",
      "Estimated slope:  3124072.35\n",
      "Correlation:  0.38\n",
      "\n",
      "Predictor Variable:  FG_PCT\n",
      "Estimated slope:  4522180.47\n",
      "Correlation:  0.0016\n",
      "\n",
      "Predictor Variable:  FT_PCT\n",
      "Estimated slope:  12789058.45\n",
      "Correlation:  0.038\n",
      "\n"
     ]
    }
   ],
   "source": [
    "for column in ['MIN','GP','PTS','REB','AST','FG_PCT','FT_PCT']:\n",
    "    regressor = lr() \n",
    "    regressor.fit(player_metrics[[column]],player_metrics['salary']) \n",
    "    m= regressor.coef_[0]\n",
    "    print('Predictor Variable: ',column)\n",
    "    print('Estimated slope: ', round(m,2))\n",
    "    print(\"Correlation: {: .2}\".format(regressor.score(player_metrics[[column]],player_metrics['salary'])))\n",
    "    print(\"\")"
   ]
  },
  {
   "cell_type": "markdown",
   "metadata": {},
   "source": [
    "The predictor variables that had the strongest correlation were the player's subjective ranking in the league, MIN, PTS, and AST. Therefore, we will use these variables in our multilinear model to predict salary."
   ]
  },
  {
   "cell_type": "code",
   "execution_count": 165,
   "metadata": {},
   "outputs": [
    {
     "name": "stdout",
     "output_type": "stream",
     "text": [
      "[ -34303.32532202 -274705.59939154  738971.1556192   792914.52320181]\n",
      "R squared score:  0.71\n"
     ]
    }
   ],
   "source": [
    "multi_model = lr()\n",
    "multi_model.fit(player_metrics[['RANK','MIN','PTS','AST']],player_metrics['salary'])\n",
    "multi_model_cf = multi_model.coef_\n",
    "multi_model_score = multi_model.score(player_metrics[['RANK','MIN','PTS','AST']],player_metrics['salary'])\n",
    "print(multi_model_cf)\n",
    "print(\"R squared score: {: .2}\".format(multi_model_score))"
   ]
  },
  {
   "cell_type": "code",
   "execution_count": 271,
   "metadata": {},
   "outputs": [
    {
     "data": {
      "image/png": "[encoded data removed]",
      "text/plain": [
       "<Figure size 432x288 with 1 Axes>"
      ]
     },
     "metadata": {},
     "output_type": "display_data"
    }
   ],
   "source": [
    "plt.scatter(player_metrics['RANK'], player_metrics['salary'], label=\"Actual Salary\")\n",
    "plt.scatter(player_metrics[\"RANK\"], multi_model.predict(player_metrics[['RANK','MIN','PTS','AST']]), label=\"Predicted Salary\")\n",
    "plt.xlabel(\"salary\")\n",
    "plt.ylabel(\"rank\")\n",
    "plt.title(\"Salary Prediction Plot\")\n",
    "plt.legend(loc=\"upper right\")\n",
    "plt.show()"
   ]
  },
  {
   "cell_type": "markdown",
   "metadata": {},
   "source": [
    "### Predicting Our Favorite Players"
   ]
  },
  {
   "cell_type": "code",
   "execution_count": 289,
   "metadata": {},
   "outputs": [
    {
     "name": "stdout",
     "output_type": "stream",
     "text": [
      "LeBron James' Actual Salary:          salary\n",
      "238  39219565.0\n",
      "LeBron Lebron James' Predicted Salary: [30697428.14982481]\n",
      "\n",
      "Dwight Howard's Actual Salary:         salary\n",
      "110  2564753.0\n",
      "Dwight Howard's Predicted Salary: [4238753.8751599]\n",
      "\n",
      "Aaron Holiday's Actual Salary:       salary\n",
      "1  2345640.0\n",
      "Aaron Holiday's Predicted Salary: [5838967.48794234]\n"
     ]
    }
   ],
   "source": [
    "lebron = player_metrics.where(player_metrics['player']== 'LeBron James')\n",
    "lebron = lebron.dropna()\n",
    "print(\"LeBron James' Actual Salary:\", lebron['salary'].to_frame())\n",
    "print(\"LeBron Lebron James' Predicted Salary:\", multi_model.predict(lebron[['RANK','MIN','PTS','AST']]))\n",
    "\n",
    "print(\"\")\n",
    "dwight = player_metrics.where(player_metrics['player']== 'Dwight Howard')\n",
    "dwight = dwight.dropna()\n",
    "print(\"Dwight Howard's Actual Salary:\", dwight['salary'].to_frame())\n",
    "print(\"Dwight Howard's Predicted Salary:\", multi_model.predict(dwight[['RANK','MIN','PTS','AST']]))\n",
    "\n",
    "print(\"\")\n",
    "aaron = player_metrics.where(player_metrics['player']== 'Aaron Holiday')\n",
    "aaron = aaron.dropna()\n",
    "print(\"Aaron Holiday's Actual Salary:\", aaron['salary'].to_frame())\n",
    "print(\"Aaron Holiday's Predicted Salary:\", multi_model.predict(aaron[['RANK','MIN','PTS','AST']]))"
   ]
  },
  {
   "cell_type": "markdown",
   "metadata": {},
   "source": [
    "## Conclusion:\n",
    "___\n",
    "Going into this project, our group initially thought the majority of the NBA salaries were primarily based off of performance. We also thought that we would see other factors such as height or age stongly correlated with salary. Additionally, we anticipated the possibility of seeing salary disparities regarding race within the NBA and salary disparities regarding gender within American professional baskeball as a whole.\n",
    "\n",
    "Our group discovered some interesting findings while exploring our data. When we analyzed the average salaries by NBA teams in the league, we found that there was a rather large statistical dispersion with the standard deviation being about \\$1.8 million. This is huge in comparisson to the WNBA team's average salaries which had a standard deviation of about \\$8,300. Golden State Warriors (GSW) pays their players the most with an approximately $12 million average salary per player. We found this interesting considering GSW was the eighth best team in the Western conference this year. The Atlanta Hawks pays their players the least and they did pretty well this year coming in fourth in the Eastern conference. We noticed that Western Conference teams pay their players considerably more than Eastern conference team.\n",
    "\n",
    "Our group uncovered the colleges/universities that send the most players to league. The top 3 schools with the most alumni in the NBA right now are University of Kentucky, Duke, and UCLA, respectively. Although Kentucky had a rough season, it is no concidence that these schools are some of the top ranked colleges for basketball. We found players coming from certain colleges make significantly more on average. For example, UCLA graduates make on average $15.8 million a year! This is 83.7% more than our NBA sample's average salary of $8.6 million. We think playing at a top basketball school could possibly contribute to a player earning more.\n",
    "\n",
    "**Salary Disparities:** The overall mean salary for the NBA was about \\$8.6 million, where as the overall mean salary for the WNBA was about \\$97,000. This means professional women's baskeball players make about a penny for every dollar made by their male counterparts. When running our t-test, we received a p-value of .002 and rejected our null hypothesis that these were the same distributions. We also ran a t-test for salaries in the NBA on the basis or race by taking a random sample of the Black/African American players salaries and the White players salaries. (Other races did not have enough data.) Although our test did not have the ideal t-test parameters, we ended up failing to reject our null hypothesis and concluding our values came from the same distribution. Although the white salaries were lower on average than the Black player's salaries, we found that the white players' overall performance/league ranking was lower than the Black players' performance which could be the reason for the lower salaries.    \n",
    "\n",
    "**Salary Predictions:** Our group found the correlations of all the prominent factors, both performance and general, relating to the NBA palyers' salaries. We then created a multi-linear regression model that factored in the player's ranking in the league, average points per game, assits, and MIN. Our final model had an r squared value of .71. When we tested our model by predicting how much our favorite players make, we realized the model's predictions were unfortunately far from accurate. "
   ]
  },
  {
   "cell_type": "markdown",
   "metadata": {},
   "source": [
    "## Limitations:\n",
    "---\n"
   ]
  },
  {
   "cell_type": "markdown",
   "metadata": {},
   "source": [
    "## Appendix:\n",
    "___\n",
    "- **Source Code:** link to our github: \n",
    "\n",
    "- **Acknowledgments:** We used a lot of great resources and learned a lot while working on this project. If we had more time our group would have wanted to included a metric for how well people know and love the player. We think this metric could have a strong relationship with salary as well. Could this be the reason our model says Lebron should only be making $30 million and not $39 million (his current salary)? We would want to do a deeper dive into this data.\n",
    "\n",
    "- **Data cleaning description:** \n",
    "For the NBA player stats and metrics, we extracted data from the offical NBA website. We were not able to use beautiful soup because to get this data, the data is requested by the page and then is embedded into HTML. To work with this, we first created an url header. We then specificed desired filters such as Regular Season, 2019-2020 season, and from 10/20/19 which is the start of the 2019-2020 season. After converting it into a data frame, we filtered for columns that were relevant for possibly influencing the salary of a player. We exported an NBA salary data set from this website: https://www.basketball-reference.com/contracts/players.html. We had to clean up the dataset by converting the salary values from currency types to general types. \n",
    "\n",
    "We used the same method mentioned above to extract the data for WNBA salaries data which can be found at: https://www.spotrac.com/wnba/rankings/base/\n",
    "\n",
    "For our NBA Race data, we took a random sample of about 50 players in the league. We then exported this data to excel and entered a race column where we typed in each player's race. The player's race was found via google. We then transformed data back to cssv file.  "
   ]
  }
 ],
 "metadata": {
  "kernelspec": {
   "display_name": "Python 3",
   "language": "python",
   "name": "python3"
  },
  "language_info": {
   "codemirror_mode": {
    "name": "ipython",
    "version": 3
   },
   "file_extension": ".py",
   "mimetype": "text/x-python",
   "name": "python",
   "nbconvert_exporter": "python",
   "pygments_lexer": "ipython3",
   "version": "3.8.5"
  }
 },
 "nbformat": 4,
 "nbformat_minor": 4
}
